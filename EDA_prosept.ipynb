{
 "cells": [
  {
   "cell_type": "code",
   "execution_count": 8,
   "metadata": {},
   "outputs": [],
   "source": [
    "import os\n",
    "\n",
    "import pandas as pd\n",
    "import numpy as np\n",
    "\n",
    "import seaborn as sns\n",
    "import matplotlib.pyplot as plt\n",
    "%matplotlib inline\n",
    "\n",
    "from urllib.parse import urlparse\n",
    "\n",
    "import re\n",
    "\n",
    "from sentence_transformers import SentenceTransformer\n",
    "from scipy.spatial.distance import pdist, squareform"
   ]
  },
  {
   "cell_type": "code",
   "execution_count": 9,
   "metadata": {},
   "outputs": [],
   "source": [
    "RANDOM_SEED = 5123"
   ]
  },
  {
   "cell_type": "markdown",
   "metadata": {},
   "source": [
    "### Цель проекта\n",
    "\n",
    "Цель этого проекта - разработка решения, которое отчасти автоматизирует процесс\n",
    "сопоставления товаров. Основная идея - предлагать несколько товаров заказчика,\n",
    "которые с наибольшей вероятностью соответствуют размечаемому товару дилера.\n",
    "Предлагается реализовать это решение, как онлайн сервис, открываемый в веб-\n",
    "браузере. Выбор наиболее вероятных подсказок делается методами машинного\n",
    "обучения."
   ]
  },
  {
   "cell_type": "markdown",
   "metadata": {},
   "source": [
    "### Предоставление вариантов соответствия:\n",
    "\n",
    "Система должна использовать рекомендательную модель, созданную ML\n",
    "специалистами, для предоставления наиболее вероятных вариантов соответствия\n",
    "товара.\n",
    "Для каждого товара система должна предложить несколько (настраиваемое\n",
    "количество) вариантов соответствия."
   ]
  },
  {
   "cell_type": "markdown",
   "metadata": {},
   "source": [
    "### Описание данных\n",
    "\n",
    "Описание данных\n",
    "Заказчик предоставил несколько таблиц (дамп БД), содержащих необходимые\n",
    "данные:\n",
    "1. `marketing_dealer` - список дилеров;\n",
    "2. `marketing_dealerprice` - результат работы парсера площадок дилеров:\n",
    "   - product_key - уникальный номер позиции;\n",
    "   - price - цена;\n",
    "   - product_url - адрес страницы, откуда собраны данные;\n",
    "   - product_name - заголовок продаваемого товара;\n",
    "   - date - дата получения информации;\n",
    "   - dealer_id - идентификатор дилера (внешний ключ к marketing_dealer)\n",
    "  \n",
    "3. `marketing_product` - список товаров, которые производит и распространяет\n",
    "заказчик;\n",
    "   - article - артикул товара;\n",
    "   - ean_13 - код товара (см. EAN 13). Прим: *`ean_13 - European Article Number` \n",
    "   - name - название товара;\n",
    "   - cost - стоимость;\n",
    "   - min_recommended_price - рекомендованная минимальная цена;\n",
    "   - recommended_price - рекомендованная цена;\n",
    "   - category_id - категория товара;\n",
    "   - ozon_name - названиет товара на Озоне;\n",
    "   - name_1c - название товара в 1C;\n",
    "   - wb_name - название товара на Wildberries;\n",
    "   - ozon_article - описание для Озон;\n",
    "   - wb_article - артикул для Wildberries;\n",
    "   - ym_article - артикул для Яндекс.Маркета;\n",
    "\n",
    "4. `marketing_productdealerkey` - таблица матчинга товаров заказчика и товаров\n",
    "дилеров\n",
    "   - key - внешний ключ к marketing_dealerprice\n",
    "   - product_id - внешний ключ к marketing_product\n",
    "   - dealer_id - внешний ключ к marketing_dealer"
   ]
  },
  {
   "cell_type": "code",
   "execution_count": 10,
   "metadata": {},
   "outputs": [],
   "source": [
    "class analyzer():\n",
    "\n",
    "    def __init__(self,\n",
    "                 marketing_dealer = os.path.join(os.getcwd(), 'assets', 'marketing_dealer.csv'),\n",
    "                 marketing_dealerprice = os.path.join(os.getcwd(), 'assets', 'marketing_dealerprice.csv'),\n",
    "                 marketing_product = os.path.join(os.getcwd(), 'assets', 'marketing_product.csv'),\n",
    "                 marketing_productdealerkey = os.path.join(os.getcwd(), 'assets', 'marketing_productdealerkey.csv')):\n",
    "        \n",
    "        self.marketing_dealer = pd.read_csv(marketing_dealer, sep=';', index_col='id')\n",
    "        self.marketing_dealer_price = pd.read_csv(marketing_dealerprice, sep=';',index_col='id', parse_dates=['date']) \n",
    "        self.marketing_product = pd.read_csv(marketing_product, sep=';', index_col='id') \n",
    "        self.marketing_product_dealer_key = pd.read_csv(marketing_productdealerkey, sep=';',index_col='id')\n",
    "\n",
    "        self.marketing_dealer.sort_index(inplace=True)\n",
    "        self.marketing_dealer_price.sort_index(inplace=True)\n",
    "        self.marketing_product.sort_index(inplace=True)\n",
    "        self.marketing_product_dealer_key.sort_index(inplace=True)\n",
    "\n",
    "    #region misses\n",
    "    def check_misses_marketing_dealer(self):\n",
    "        analyzer.__plot_misses(spaced_data = analyzer.__count_misses(self.marketing_dealer),\n",
    "                               dataset_name ='marketing_dealer')\n",
    "        \n",
    "\n",
    "    def check_misses_marketing_dealer_price(self):\n",
    "        analyzer.__plot_misses(spaced_data = analyzer.__count_misses(self.marketing_dealer_price),\n",
    "                               dataset_name = 'marketing_dealer_price')\n",
    "        \n",
    "\n",
    "    def check_misses_marketing_product(self):\n",
    "        analyzer.__plot_misses(spaced_data = analyzer.__count_misses(self.marketing_product),\n",
    "                               dataset_name = 'marketing_product')\n",
    "\n",
    "    def check_misses_marketing_product_dealer_key(self):\n",
    "        analyzer.__plot_misses(spaced_data = analyzer.__count_misses(self.marketing_product_dealer_key),\n",
    "                               dataset_name = 'marketing_product_dealer_key')\n",
    "    #endregion\n",
    "\n",
    "\n",
    "    #region duplicates  \n",
    "    def check_duplicates_marketing_dealer(self):\n",
    "        analyzer.__check_duplicates(data = self.marketing_dealer,\n",
    "                                    dataset_name ='marketing_dealer')\n",
    "        \n",
    "    def check_duplicates_marketing_dealer_price(self):\n",
    "        analyzer.__check_duplicates(data = self.marketing_dealer_price,\n",
    "                                    dataset_name ='marketing_dealer_price')\n",
    "        \n",
    "    def check_duplicates_marketing_product(self):\n",
    "        analyzer.__check_duplicates(data = self.marketing_product,\n",
    "                                    dataset_name ='marketing_product')\n",
    "        \n",
    "    def check_duplicates_marketing_product_dealer_key(self):\n",
    "        analyzer.__check_duplicates(data = self.marketing_product_dealer_key,\n",
    "                                    dataset_name ='marketing_product_dealer_key')\n",
    "    #endregion\n",
    "\n",
    "\n",
    "    def merger(self):\n",
    "\n",
    "        self.merged_df = self.marketing_dealer_price.merge(self.marketing_dealer,\n",
    "                                                           left_on='dealer_id',\n",
    "                                                            right_index=True)\n",
    "        self.merged_df  = self.marketing_dealer_price.merge(self.marketing_dealer, left_on='dealer_id', right_index=True)\n",
    "        self.merged_df  = self.merged_df.merge(self.marketing_product_dealer_key,\n",
    "                            left_on='product_key',\n",
    "                            right_on='key')\n",
    "        self.merged_df = self.merged_df.merge(self.marketing_product,\n",
    "                            left_on='product_id',\n",
    "                            right_on='id')\n",
    "        self.merged_df.drop(columns=['product_key','dealer_id_x','name_x',\n",
    "                                     'key','dealer_id_y',], inplace=True)\n",
    "        self.merged_df.rename(columns={'name_y':'original_name'}, inplace=True)\n",
    "\n",
    "\n",
    "\n",
    "\n",
    "        \n",
    "    #region helper\n",
    "    @staticmethod\n",
    "    def __count_misses(data):\n",
    "        spaced_data = (\n",
    "            (data.isna().mean()*100)\n",
    "            .to_frame()\n",
    "            .rename(columns = {0:'space'})\n",
    "            .query('space > 0')\n",
    "            .sort_values(by = 'space', ascending=True)\n",
    "        )\n",
    "        return spaced_data\n",
    "    \n",
    "\n",
    "    @staticmethod\n",
    "    def __plot_misses(spaced_data, dataset_name):\n",
    "        if spaced_data.empty:\n",
    "            print(f'Пропуски в датасете \"{dataset_name}\" не обнаружены')\n",
    "        else:\n",
    "            ax = (\n",
    "                spaced_data\n",
    "                .plot\n",
    "                .barh(y='space', figsize = (12,8), rot = 0, legend = False, fontsize = 16, color='firebrick'))\n",
    "            ax.xaxis.set_ticks([10,20,30,40,50,60,70,80,90])\n",
    "            ax.set_title(f'Количество пропусков в {dataset_name}' + '\\n', fontsize = 20, color='black')\n",
    "            ax.set_xlabel('Пропуски по колонкам')\n",
    "            for i, v in enumerate(spaced_data.space):\n",
    "                ax.text(v + 0.5, i - .1, '{:,.2f}%'.format((v)), color='black', fontweight='bold')\n",
    "\n",
    "    @staticmethod\n",
    "    def __check_duplicates(data, dataset_name):\n",
    "        duplicates = data[data.duplicated()]\n",
    "        if duplicates.empty:\n",
    "            print(f'Дубликаты в \"{dataset_name}\" не обнаружены')\n",
    "        else:\n",
    "            print(f'Количество дубликатов в \"{dataset_name}\": {duplicates.shape[0]}')\n",
    "    #endregion\n",
    "            \n",
    "    @classmethod\n",
    "    def plot_hist(cls, data_col):\n",
    "        fig = plt.figure(figsize=(12,12))\n",
    "\n",
    "        ax_1 = fig.add_subplot(2, 1, 1)\n",
    "        ax_2 = fig.add_subplot(2, 2, 3)\n",
    "        ax_3 = fig.add_subplot(2, 2, 4)\n",
    "\n",
    "        fig.suptitle(f'Колонка: {data_col.name} \\n', fontsize=18)\n",
    "\n",
    "        sns.histplot(data_col, kde=False, ax=ax_1)\n",
    "        ax_1.set_title('Histogram - \"Price\"')\n",
    "\n",
    "        sns.histplot(data_col, kde=False, ax=ax_2)\n",
    "        ax_2.set_title('Histogram - Right Tail')\n",
    "        ax_2.set_xlim(0, np.percentile(data_col[data_col.notna()], 95)) \n",
    "\n",
    "        sns.boxplot(x=data_col, ax=ax_3)\n",
    "        ax_3.set_title('Box-and-Whiskers Plot')\n",
    "\n",
    "        plt.tight_layout()\n",
    "        plt.show()"
   ]
  },
  {
   "cell_type": "code",
   "execution_count": 11,
   "metadata": {},
   "outputs": [],
   "source": [
    "prosept = analyzer()"
   ]
  },
  {
   "cell_type": "markdown",
   "metadata": {},
   "source": [
    "### Marketing_dealer"
   ]
  },
  {
   "cell_type": "code",
   "execution_count": 13,
   "metadata": {},
   "outputs": [
    {
     "name": "stdout",
     "output_type": "stream",
     "text": [
      "<class 'pandas.core.frame.DataFrame'>\n",
      "Int64Index: 18 entries, 1 to 18\n",
      "Data columns (total 1 columns):\n",
      " #   Column  Non-Null Count  Dtype \n",
      "---  ------  --------------  ----- \n",
      " 0   name    18 non-null     object\n",
      "dtypes: object(1)\n",
      "memory usage: 288.0+ bytes\n"
     ]
    }
   ],
   "source": [
    "prosept.marketing_dealer.info()"
   ]
  },
  {
   "cell_type": "code",
   "execution_count": 16,
   "metadata": {},
   "outputs": [
    {
     "data": {
      "text/plain": [
       "pandas.core.indexes.numeric.Int64Index"
      ]
     },
     "execution_count": 16,
     "metadata": {},
     "output_type": "execute_result"
    }
   ],
   "source": [
    "type(prosept.marketing_dealer.index)"
   ]
  },
  {
   "cell_type": "code",
   "execution_count": 354,
   "metadata": {},
   "outputs": [
    {
     "data": {
      "text/html": [
       "<div>\n",
       "<style scoped>\n",
       "    .dataframe tbody tr th:only-of-type {\n",
       "        vertical-align: middle;\n",
       "    }\n",
       "\n",
       "    .dataframe tbody tr th {\n",
       "        vertical-align: top;\n",
       "    }\n",
       "\n",
       "    .dataframe thead th {\n",
       "        text-align: right;\n",
       "    }\n",
       "</style>\n",
       "<table border=\"1\" class=\"dataframe\">\n",
       "  <thead>\n",
       "    <tr style=\"text-align: right;\">\n",
       "      <th></th>\n",
       "      <th>name</th>\n",
       "    </tr>\n",
       "    <tr>\n",
       "      <th>id</th>\n",
       "      <th></th>\n",
       "    </tr>\n",
       "  </thead>\n",
       "  <tbody>\n",
       "    <tr>\n",
       "      <th>5</th>\n",
       "      <td>Castorama</td>\n",
       "    </tr>\n",
       "    <tr>\n",
       "      <th>15</th>\n",
       "      <td>Vse_instrumeni</td>\n",
       "    </tr>\n",
       "    <tr>\n",
       "      <th>3</th>\n",
       "      <td>Bafus</td>\n",
       "    </tr>\n",
       "    <tr>\n",
       "      <th>16</th>\n",
       "      <td>Vimos</td>\n",
       "    </tr>\n",
       "    <tr>\n",
       "      <th>10</th>\n",
       "      <td>OnlineTrade</td>\n",
       "    </tr>\n",
       "  </tbody>\n",
       "</table>\n",
       "</div>"
      ],
      "text/plain": [
       "              name\n",
       "id                \n",
       "5        Castorama\n",
       "15  Vse_instrumeni\n",
       "3            Bafus\n",
       "16           Vimos\n",
       "10     OnlineTrade"
      ]
     },
     "execution_count": 354,
     "metadata": {},
     "output_type": "execute_result"
    }
   ],
   "source": [
    "prosept.marketing_dealer.sample(5, random_state=RANDOM_SEED)"
   ]
  },
  {
   "cell_type": "markdown",
   "metadata": {},
   "source": [
    "Датасет `marketing_dealer` представляет собой наименование диллерсих сетей. Всего в датасете находится 18 уникальных значений, котороым соответсвует уникальный ключ - `id` "
   ]
  },
  {
   "cell_type": "code",
   "execution_count": 355,
   "metadata": {},
   "outputs": [
    {
     "name": "stdout",
     "output_type": "stream",
     "text": [
      "Пропуски в датасете \"marketing_dealer\" не обнаружены\n"
     ]
    }
   ],
   "source": [
    "prosept.check_misses_marketing_dealer()"
   ]
  },
  {
   "cell_type": "markdown",
   "metadata": {},
   "source": [
    "Пропусков в данных нет. Посмотрим на дубликаты:"
   ]
  },
  {
   "cell_type": "code",
   "execution_count": 356,
   "metadata": {},
   "outputs": [
    {
     "name": "stdout",
     "output_type": "stream",
     "text": [
      "Дубликаты в \"marketing_dealer\" не обнаружены\n"
     ]
    }
   ],
   "source": [
    "prosept.check_duplicates_marketing_dealer()"
   ]
  },
  {
   "cell_type": "markdown",
   "metadata": {},
   "source": [
    "## Marketing_dealer_price"
   ]
  },
  {
   "cell_type": "code",
   "execution_count": 357,
   "metadata": {},
   "outputs": [
    {
     "name": "stdout",
     "output_type": "stream",
     "text": [
      "<class 'pandas.core.frame.DataFrame'>\n",
      "Int64Index: 20416 entries, 2 to 20570\n",
      "Data columns (total 6 columns):\n",
      " #   Column        Non-Null Count  Dtype         \n",
      "---  ------        --------------  -----         \n",
      " 0   product_key   20416 non-null  object        \n",
      " 1   price         20416 non-null  float64       \n",
      " 2   product_url   20182 non-null  object        \n",
      " 3   product_name  20416 non-null  object        \n",
      " 4   date          20416 non-null  datetime64[ns]\n",
      " 5   dealer_id     20416 non-null  int64         \n",
      "dtypes: datetime64[ns](1), float64(1), int64(1), object(3)\n",
      "memory usage: 1.1+ MB\n"
     ]
    }
   ],
   "source": [
    "prosept.marketing_dealer_price.info()"
   ]
  },
  {
   "cell_type": "code",
   "execution_count": 358,
   "metadata": {},
   "outputs": [
    {
     "data": {
      "text/html": [
       "<div>\n",
       "<style scoped>\n",
       "    .dataframe tbody tr th:only-of-type {\n",
       "        vertical-align: middle;\n",
       "    }\n",
       "\n",
       "    .dataframe tbody tr th {\n",
       "        vertical-align: top;\n",
       "    }\n",
       "\n",
       "    .dataframe thead th {\n",
       "        text-align: right;\n",
       "    }\n",
       "</style>\n",
       "<table border=\"1\" class=\"dataframe\">\n",
       "  <thead>\n",
       "    <tr style=\"text-align: right;\">\n",
       "      <th></th>\n",
       "      <th>product_key</th>\n",
       "      <th>price</th>\n",
       "      <th>product_url</th>\n",
       "      <th>product_name</th>\n",
       "      <th>date</th>\n",
       "      <th>dealer_id</th>\n",
       "    </tr>\n",
       "    <tr>\n",
       "      <th>id</th>\n",
       "      <th></th>\n",
       "      <th></th>\n",
       "      <th></th>\n",
       "      <th></th>\n",
       "      <th></th>\n",
       "      <th></th>\n",
       "    </tr>\n",
       "  </thead>\n",
       "  <tbody>\n",
       "    <tr>\n",
       "      <th>19342</th>\n",
       "      <td>https://kub02.ru/catalog/professionalnaya_byto...</td>\n",
       "      <td>368.0</td>\n",
       "      <td>https://kub02.ru/catalog/professionalnaya_byto...</td>\n",
       "      <td>Удалитель цемента PROSEPT CEMENT CLEANER готов...</td>\n",
       "      <td>2023-07-31</td>\n",
       "      <td>6</td>\n",
       "    </tr>\n",
       "    <tr>\n",
       "      <th>8775</th>\n",
       "      <td>100121832</td>\n",
       "      <td>1028.0</td>\n",
       "      <td>https://www.bafus.ru/100121832/</td>\n",
       "      <td>Просепт Professional Crystal с Алоэ Вера жидки...</td>\n",
       "      <td>2023-07-18</td>\n",
       "      <td>3</td>\n",
       "    </tr>\n",
       "    <tr>\n",
       "      <th>1290</th>\n",
       "      <td>15881561</td>\n",
       "      <td>1985.0</td>\n",
       "      <td>https://www.vseinstrumenti.ru/product/sredstvo...</td>\n",
       "      <td>Средство для уборки помещений после пожара с д...</td>\n",
       "      <td>2023-07-11</td>\n",
       "      <td>15</td>\n",
       "    </tr>\n",
       "    <tr>\n",
       "      <th>9371</th>\n",
       "      <td>1092903</td>\n",
       "      <td>295.0</td>\n",
       "      <td>https://www.sima-land.ru/1348785</td>\n",
       "      <td>Пропитка для камня Prosept Aquaisol, гидрофоби...</td>\n",
       "      <td>2023-07-18</td>\n",
       "      <td>13</td>\n",
       "    </tr>\n",
       "    <tr>\n",
       "      <th>17763</th>\n",
       "      <td>1001472280</td>\n",
       "      <td>403.0</td>\n",
       "      <td>https://www.castorama.ru/op_l_d_pmm_splash_rin...</td>\n",
       "      <td>Ополаскиватель для посуды в посудомоечной маши...</td>\n",
       "      <td>2023-07-28</td>\n",
       "      <td>5</td>\n",
       "    </tr>\n",
       "  </tbody>\n",
       "</table>\n",
       "</div>"
      ],
      "text/plain": [
       "                                             product_key   price  \\\n",
       "id                                                                 \n",
       "19342  https://kub02.ru/catalog/professionalnaya_byto...   368.0   \n",
       "8775                                           100121832  1028.0   \n",
       "1290                                            15881561  1985.0   \n",
       "9371                                             1092903   295.0   \n",
       "17763                                         1001472280   403.0   \n",
       "\n",
       "                                             product_url  \\\n",
       "id                                                         \n",
       "19342  https://kub02.ru/catalog/professionalnaya_byto...   \n",
       "8775                     https://www.bafus.ru/100121832/   \n",
       "1290   https://www.vseinstrumenti.ru/product/sredstvo...   \n",
       "9371                    https://www.sima-land.ru/1348785   \n",
       "17763  https://www.castorama.ru/op_l_d_pmm_splash_rin...   \n",
       "\n",
       "                                            product_name       date  dealer_id  \n",
       "id                                                                              \n",
       "19342  Удалитель цемента PROSEPT CEMENT CLEANER готов... 2023-07-31          6  \n",
       "8775   Просепт Professional Crystal с Алоэ Вера жидки... 2023-07-18          3  \n",
       "1290   Средство для уборки помещений после пожара с д... 2023-07-11         15  \n",
       "9371   Пропитка для камня Prosept Aquaisol, гидрофоби... 2023-07-18         13  \n",
       "17763  Ополаскиватель для посуды в посудомоечной маши... 2023-07-28          5  "
      ]
     },
     "execution_count": 358,
     "metadata": {},
     "output_type": "execute_result"
    }
   ],
   "source": [
    "prosept.marketing_dealer_price.sample(5, random_state=RANDOM_SEED)"
   ]
  },
  {
   "cell_type": "markdown",
   "metadata": {},
   "source": [
    "### Неверные значения в product_key"
   ]
  },
  {
   "cell_type": "code",
   "execution_count": 359,
   "metadata": {},
   "outputs": [
    {
     "data": {
      "text/plain": [
       "id\n",
       "700    https://kub02.ru/catalog/professionalnaya_byto...\n",
       "701    https://kub02.ru/catalog/prosept/antiseptik_un...\n",
       "702    https://kub02.ru/catalog/professionalnaya_byto...\n",
       "703    https://kub02.ru/catalog/kraska_i_gruntovka/kr...\n",
       "704    https://kub02.ru/catalog/professionalnaya_byto...\n",
       "Name: product_key, dtype: object"
      ]
     },
     "execution_count": 359,
     "metadata": {},
     "output_type": "execute_result"
    }
   ],
   "source": [
    "prosept.marketing_dealer_price['product_key'][~prosept.marketing_dealer_price['product_key'].str.isdigit()].head(5)"
   ]
  },
  {
   "cell_type": "markdown",
   "metadata": {},
   "source": [
    "В строке `product_key` есть ссылки. Данная строка нужна нам для получения ключей продукта, следовательно данные значения можно удалять. Отчистим лишние пробелы, затем посмотрим ещё раз:"
   ]
  },
  {
   "cell_type": "code",
   "execution_count": 360,
   "metadata": {},
   "outputs": [
    {
     "data": {
      "text/plain": [
       "240"
      ]
     },
     "execution_count": 360,
     "metadata": {},
     "output_type": "execute_result"
    }
   ],
   "source": [
    "prosept.marketing_dealer_price['product_key'] = prosept.marketing_dealer_price['product_key'].str.strip()\n",
    "prosept.marketing_dealer_price['product_key'][~prosept.marketing_dealer_price['product_key'].str.isdigit()].shape[0]"
   ]
  },
  {
   "cell_type": "markdown",
   "metadata": {},
   "source": [
    "Всего найдено 240 объектов, где `product_key` является ссылкой. Удаляем некорректные значения:"
   ]
  },
  {
   "cell_type": "code",
   "execution_count": 361,
   "metadata": {},
   "outputs": [
    {
     "data": {
      "text/plain": [
       "0"
      ]
     },
     "execution_count": 361,
     "metadata": {},
     "output_type": "execute_result"
    }
   ],
   "source": [
    "prosept.marketing_dealer_price = prosept.marketing_dealer_price[prosept.marketing_dealer_price['product_key'].str.isdigit()]\n",
    "prosept.marketing_dealer_price.reset_index(drop=True, inplace=True)\n",
    "prosept.marketing_dealer_price['product_key'][~prosept.marketing_dealer_price['product_key'].str.isdigit()].shape[0]"
   ]
  },
  {
   "cell_type": "code",
   "execution_count": 362,
   "metadata": {},
   "outputs": [
    {
     "data": {
      "text/html": [
       "<div>\n",
       "<style scoped>\n",
       "    .dataframe tbody tr th:only-of-type {\n",
       "        vertical-align: middle;\n",
       "    }\n",
       "\n",
       "    .dataframe tbody tr th {\n",
       "        vertical-align: top;\n",
       "    }\n",
       "\n",
       "    .dataframe thead th {\n",
       "        text-align: right;\n",
       "    }\n",
       "</style>\n",
       "<table border=\"1\" class=\"dataframe\">\n",
       "  <thead>\n",
       "    <tr style=\"text-align: right;\">\n",
       "      <th></th>\n",
       "      <th>product_key</th>\n",
       "      <th>price</th>\n",
       "      <th>product_url</th>\n",
       "      <th>product_name</th>\n",
       "      <th>date</th>\n",
       "      <th>dealer_id</th>\n",
       "    </tr>\n",
       "  </thead>\n",
       "  <tbody>\n",
       "    <tr>\n",
       "      <th>0</th>\n",
       "      <td>546227</td>\n",
       "      <td>233.0</td>\n",
       "      <td>https://akson.ru//p/sredstvo_universalnoe_pros...</td>\n",
       "      <td>Средство универсальное Prosept Universal Spray...</td>\n",
       "      <td>2023-07-11</td>\n",
       "      <td>2</td>\n",
       "    </tr>\n",
       "    <tr>\n",
       "      <th>1</th>\n",
       "      <td>546408</td>\n",
       "      <td>175.0</td>\n",
       "      <td>https://akson.ru//p/kontsentrat_prosept_multip...</td>\n",
       "      <td>Концентрат Prosept Multipower для мытья полов,...</td>\n",
       "      <td>2023-07-11</td>\n",
       "      <td>2</td>\n",
       "    </tr>\n",
       "    <tr>\n",
       "      <th>2</th>\n",
       "      <td>546234</td>\n",
       "      <td>285.0</td>\n",
       "      <td>https://akson.ru//p/sredstvo_dlya_chistki_lyus...</td>\n",
       "      <td>Средство для чистки люстр Prosept Universal An...</td>\n",
       "      <td>2023-07-11</td>\n",
       "      <td>2</td>\n",
       "    </tr>\n",
       "    <tr>\n",
       "      <th>3</th>\n",
       "      <td>651258</td>\n",
       "      <td>362.0</td>\n",
       "      <td>https://akson.ru//p/udalitel_rzhavchiny_prosep...</td>\n",
       "      <td>Удалитель ржавчины PROSEPT RUST REMOVER 0,5л 0...</td>\n",
       "      <td>2023-07-11</td>\n",
       "      <td>2</td>\n",
       "    </tr>\n",
       "    <tr>\n",
       "      <th>4</th>\n",
       "      <td>546355</td>\n",
       "      <td>205.0</td>\n",
       "      <td>https://akson.ru//p/sredstvo_moyushchee_dlya_b...</td>\n",
       "      <td>Средство моющее для бани и сауны Prosept Multi...</td>\n",
       "      <td>2023-07-11</td>\n",
       "      <td>2</td>\n",
       "    </tr>\n",
       "    <tr>\n",
       "      <th>...</th>\n",
       "      <td>...</td>\n",
       "      <td>...</td>\n",
       "      <td>...</td>\n",
       "      <td>...</td>\n",
       "      <td>...</td>\n",
       "      <td>...</td>\n",
       "    </tr>\n",
       "    <tr>\n",
       "      <th>20171</th>\n",
       "      <td>534517451</td>\n",
       "      <td>823.0</td>\n",
       "      <td>https://www.ozon.ru/product/534517451</td>\n",
       "      <td>Огнебиозащита для древесины PROSEPT 2 группа, ...</td>\n",
       "      <td>2023-07-31</td>\n",
       "      <td>18</td>\n",
       "    </tr>\n",
       "    <tr>\n",
       "      <th>20172</th>\n",
       "      <td>530308963</td>\n",
       "      <td>418.0</td>\n",
       "      <td>https://www.ozon.ru/product/530308963</td>\n",
       "      <td>Антисептик многофункциональный ФБС, ГОСТ 5 л</td>\n",
       "      <td>2023-07-31</td>\n",
       "      <td>18</td>\n",
       "    </tr>\n",
       "    <tr>\n",
       "      <th>20173</th>\n",
       "      <td>531730388</td>\n",
       "      <td>2986.0</td>\n",
       "      <td>https://www.ozon.ru/product/531730388</td>\n",
       "      <td>Средство для удаления ржавчины PROSEPT, 1 шт</td>\n",
       "      <td>2023-07-31</td>\n",
       "      <td>18</td>\n",
       "    </tr>\n",
       "    <tr>\n",
       "      <th>20174</th>\n",
       "      <td>1090913025</td>\n",
       "      <td>579.0</td>\n",
       "      <td>https://www.ozon.ru/product/1090913025</td>\n",
       "      <td>Герметик акриловый межшовный для деревянных ко...</td>\n",
       "      <td>2023-07-31</td>\n",
       "      <td>18</td>\n",
       "    </tr>\n",
       "    <tr>\n",
       "      <th>20175</th>\n",
       "      <td>1077090171</td>\n",
       "      <td>2623.0</td>\n",
       "      <td>https://www.ozon.ru/product/1077090171</td>\n",
       "      <td>Краска-грунт фасадная для плит OSB Proff 3 в 1...</td>\n",
       "      <td>2023-07-31</td>\n",
       "      <td>18</td>\n",
       "    </tr>\n",
       "  </tbody>\n",
       "</table>\n",
       "<p>20176 rows × 6 columns</p>\n",
       "</div>"
      ],
      "text/plain": [
       "      product_key   price                                        product_url  \\\n",
       "0          546227   233.0  https://akson.ru//p/sredstvo_universalnoe_pros...   \n",
       "1          546408   175.0  https://akson.ru//p/kontsentrat_prosept_multip...   \n",
       "2          546234   285.0  https://akson.ru//p/sredstvo_dlya_chistki_lyus...   \n",
       "3          651258   362.0  https://akson.ru//p/udalitel_rzhavchiny_prosep...   \n",
       "4          546355   205.0  https://akson.ru//p/sredstvo_moyushchee_dlya_b...   \n",
       "...           ...     ...                                                ...   \n",
       "20171   534517451   823.0              https://www.ozon.ru/product/534517451   \n",
       "20172   530308963   418.0              https://www.ozon.ru/product/530308963   \n",
       "20173   531730388  2986.0              https://www.ozon.ru/product/531730388   \n",
       "20174  1090913025   579.0             https://www.ozon.ru/product/1090913025   \n",
       "20175  1077090171  2623.0             https://www.ozon.ru/product/1077090171   \n",
       "\n",
       "                                            product_name       date  dealer_id  \n",
       "0      Средство универсальное Prosept Universal Spray... 2023-07-11          2  \n",
       "1      Концентрат Prosept Multipower для мытья полов,... 2023-07-11          2  \n",
       "2      Средство для чистки люстр Prosept Universal An... 2023-07-11          2  \n",
       "3      Удалитель ржавчины PROSEPT RUST REMOVER 0,5л 0... 2023-07-11          2  \n",
       "4      Средство моющее для бани и сауны Prosept Multi... 2023-07-11          2  \n",
       "...                                                  ...        ...        ...  \n",
       "20171  Огнебиозащита для древесины PROSEPT 2 группа, ... 2023-07-31         18  \n",
       "20172       Антисептик многофункциональный ФБС, ГОСТ 5 л 2023-07-31         18  \n",
       "20173       Средство для удаления ржавчины PROSEPT, 1 шт 2023-07-31         18  \n",
       "20174  Герметик акриловый межшовный для деревянных ко... 2023-07-31         18  \n",
       "20175  Краска-грунт фасадная для плит OSB Proff 3 в 1... 2023-07-31         18  \n",
       "\n",
       "[20176 rows x 6 columns]"
      ]
     },
     "execution_count": 362,
     "metadata": {},
     "output_type": "execute_result"
    }
   ],
   "source": [
    "prosept.marketing_dealer_price"
   ]
  },
  {
   "cell_type": "code",
   "execution_count": 363,
   "metadata": {},
   "outputs": [
    {
     "data": {
      "text/plain": [
       "count                                                 20176\n",
       "unique                                                 1930\n",
       "top       Просепт Bio Lasur антисептик лессирующий защит...\n",
       "freq                                                    117\n",
       "Name: product_name, dtype: object"
      ]
     },
     "execution_count": 363,
     "metadata": {},
     "output_type": "execute_result"
    }
   ],
   "source": [
    "prosept.marketing_dealer_price['product_name'].describe()"
   ]
  },
  {
   "cell_type": "markdown",
   "metadata": {},
   "source": [
    "В тексте имеется `20176` значений и всего `1930` уникальных для колонки `product_name`. Отчистим дубликаты позже. Посмотрим на количество пропусков:"
   ]
  },
  {
   "cell_type": "code",
   "execution_count": 364,
   "metadata": {},
   "outputs": [
    {
     "data": {
      "image/png": "[encoded data removed]",
      "text/plain": [
       "<Figure size 1200x800 with 1 Axes>"
      ]
     },
     "metadata": {},
     "output_type": "display_data"
    }
   ],
   "source": [
    "prosept.check_misses_marketing_dealer_price()"
   ]
  },
  {
   "cell_type": "markdown",
   "metadata": {},
   "source": [
    "В датафрейме всего `1.16%` в колонке `product_url`. Их можно пропустить. Вернемся к дубликатам:"
   ]
  },
  {
   "cell_type": "code",
   "execution_count": 365,
   "metadata": {},
   "outputs": [
    {
     "name": "stdout",
     "output_type": "stream",
     "text": [
      "Количество дубликатов в \"marketing_dealer_price\": 726\n"
     ]
    }
   ],
   "source": [
    "prosept.check_duplicates_marketing_dealer_price()"
   ]
  },
  {
   "cell_type": "markdown",
   "metadata": {},
   "source": [
    "В датасете найдено полных 726 дубликатов. Скорее всего их больше. Посмотрим на них без колонки `date`:"
   ]
  },
  {
   "cell_type": "code",
   "execution_count": 366,
   "metadata": {},
   "outputs": [
    {
     "data": {
      "text/html": [
       "<div>\n",
       "<style scoped>\n",
       "    .dataframe tbody tr th:only-of-type {\n",
       "        vertical-align: middle;\n",
       "    }\n",
       "\n",
       "    .dataframe tbody tr th {\n",
       "        vertical-align: top;\n",
       "    }\n",
       "\n",
       "    .dataframe thead th {\n",
       "        text-align: right;\n",
       "    }\n",
       "</style>\n",
       "<table border=\"1\" class=\"dataframe\">\n",
       "  <thead>\n",
       "    <tr style=\"text-align: right;\">\n",
       "      <th></th>\n",
       "      <th>product_key</th>\n",
       "      <th>price</th>\n",
       "      <th>product_url</th>\n",
       "      <th>product_name</th>\n",
       "      <th>date</th>\n",
       "      <th>dealer_id</th>\n",
       "    </tr>\n",
       "  </thead>\n",
       "  <tbody>\n",
       "    <tr>\n",
       "      <th>11176</th>\n",
       "      <td>100002946</td>\n",
       "      <td>7250.0</td>\n",
       "      <td>https://www.bafus.ru/100002946/</td>\n",
       "      <td>Просепт Professional Огнебиозащита I сухой кон...</td>\n",
       "      <td>2023-07-21</td>\n",
       "      <td>3</td>\n",
       "    </tr>\n",
       "    <tr>\n",
       "      <th>17024</th>\n",
       "      <td>100002946</td>\n",
       "      <td>7250.0</td>\n",
       "      <td>https://www.bafus.ru/100002946/</td>\n",
       "      <td>Просепт Professional Огнебиозащита I сухой кон...</td>\n",
       "      <td>2023-07-28</td>\n",
       "      <td>3</td>\n",
       "    </tr>\n",
       "    <tr>\n",
       "      <th>8406</th>\n",
       "      <td>100002946</td>\n",
       "      <td>7250.0</td>\n",
       "      <td>https://www.bafus.ru/100002946/</td>\n",
       "      <td>Просепт Professional Огнебиозащита I сухой кон...</td>\n",
       "      <td>2023-07-18</td>\n",
       "      <td>3</td>\n",
       "    </tr>\n",
       "    <tr>\n",
       "      <th>12487</th>\n",
       "      <td>100002946</td>\n",
       "      <td>7250.0</td>\n",
       "      <td>https://www.bafus.ru/100002946/</td>\n",
       "      <td>Просепт Professional Огнебиозащита I сухой кон...</td>\n",
       "      <td>2023-07-24</td>\n",
       "      <td>3</td>\n",
       "    </tr>\n",
       "    <tr>\n",
       "      <th>6870</th>\n",
       "      <td>100002946</td>\n",
       "      <td>7250.0</td>\n",
       "      <td>https://www.bafus.ru/100002946/</td>\n",
       "      <td>Просепт Professional Огнебиозащита I сухой кон...</td>\n",
       "      <td>2023-07-17</td>\n",
       "      <td>3</td>\n",
       "    </tr>\n",
       "    <tr>\n",
       "      <th>5330</th>\n",
       "      <td>100002946</td>\n",
       "      <td>7250.0</td>\n",
       "      <td>https://www.bafus.ru/100002946/</td>\n",
       "      <td>Просепт Professional Огнебиозащита I сухой кон...</td>\n",
       "      <td>2023-07-14</td>\n",
       "      <td>3</td>\n",
       "    </tr>\n",
       "    <tr>\n",
       "      <th>2021</th>\n",
       "      <td>100002946</td>\n",
       "      <td>7250.0</td>\n",
       "      <td>https://www.bafus.ru/100002946/</td>\n",
       "      <td>Просепт Professional Огнебиозащита I сухой кон...</td>\n",
       "      <td>2023-07-12</td>\n",
       "      <td>3</td>\n",
       "    </tr>\n",
       "    <tr>\n",
       "      <th>13903</th>\n",
       "      <td>100002946</td>\n",
       "      <td>7250.0</td>\n",
       "      <td>https://www.bafus.ru/100002946/</td>\n",
       "      <td>Просепт Professional Огнебиозащита I сухой кон...</td>\n",
       "      <td>2023-07-25</td>\n",
       "      <td>3</td>\n",
       "    </tr>\n",
       "    <tr>\n",
       "      <th>200</th>\n",
       "      <td>100002946</td>\n",
       "      <td>7250.0</td>\n",
       "      <td>https://www.bafus.ru/100002946/</td>\n",
       "      <td>Просепт Professional Огнебиозащита I сухой кон...</td>\n",
       "      <td>2023-07-11</td>\n",
       "      <td>3</td>\n",
       "    </tr>\n",
       "    <tr>\n",
       "      <th>15314</th>\n",
       "      <td>100002946</td>\n",
       "      <td>7250.0</td>\n",
       "      <td>https://www.bafus.ru/100002946/</td>\n",
       "      <td>Просепт Professional Огнебиозащита I сухой кон...</td>\n",
       "      <td>2023-07-26</td>\n",
       "      <td>3</td>\n",
       "    </tr>\n",
       "  </tbody>\n",
       "</table>\n",
       "</div>"
      ],
      "text/plain": [
       "      product_key   price                      product_url  \\\n",
       "11176   100002946  7250.0  https://www.bafus.ru/100002946/   \n",
       "17024   100002946  7250.0  https://www.bafus.ru/100002946/   \n",
       "8406    100002946  7250.0  https://www.bafus.ru/100002946/   \n",
       "12487   100002946  7250.0  https://www.bafus.ru/100002946/   \n",
       "6870    100002946  7250.0  https://www.bafus.ru/100002946/   \n",
       "5330    100002946  7250.0  https://www.bafus.ru/100002946/   \n",
       "2021    100002946  7250.0  https://www.bafus.ru/100002946/   \n",
       "13903   100002946  7250.0  https://www.bafus.ru/100002946/   \n",
       "200     100002946  7250.0  https://www.bafus.ru/100002946/   \n",
       "15314   100002946  7250.0  https://www.bafus.ru/100002946/   \n",
       "\n",
       "                                            product_name       date  dealer_id  \n",
       "11176  Просепт Professional Огнебиозащита I сухой кон... 2023-07-21          3  \n",
       "17024  Просепт Professional Огнебиозащита I сухой кон... 2023-07-28          3  \n",
       "8406   Просепт Professional Огнебиозащита I сухой кон... 2023-07-18          3  \n",
       "12487  Просепт Professional Огнебиозащита I сухой кон... 2023-07-24          3  \n",
       "6870   Просепт Professional Огнебиозащита I сухой кон... 2023-07-17          3  \n",
       "5330   Просепт Professional Огнебиозащита I сухой кон... 2023-07-14          3  \n",
       "2021   Просепт Professional Огнебиозащита I сухой кон... 2023-07-12          3  \n",
       "13903  Просепт Professional Огнебиозащита I сухой кон... 2023-07-25          3  \n",
       "200    Просепт Professional Огнебиозащита I сухой кон... 2023-07-11          3  \n",
       "15314  Просепт Professional Огнебиозащита I сухой кон... 2023-07-26          3  "
      ]
     },
     "execution_count": 366,
     "metadata": {},
     "output_type": "execute_result"
    }
   ],
   "source": [
    "prosept.marketing_dealer_price[prosept.marketing_dealer_price\n",
    "                               .drop(columns=['date'])\n",
    "                               .duplicated(keep=False)].sort_values(by='product_key').head(10)"
   ]
  },
  {
   "cell_type": "code",
   "execution_count": 367,
   "metadata": {},
   "outputs": [],
   "source": [
    "duplicates = prosept.marketing_dealer_price[prosept.marketing_dealer_price\n",
    "                               .drop(columns=['date'])\n",
    "                               .duplicated(keep=False)].sort_values(by='product_key').shape[0]"
   ]
  },
  {
   "cell_type": "markdown",
   "metadata": {},
   "source": [
    "Количество дубликатов составляет:\n",
    "1. `726` полных дубликатов - парсинг был осуществлен в один и тот же день;\n",
    "2. `19092` неполных дубликатов (без колонки `date`) - одни и те же товары, парсинг которых состоялся в разный день."
   ]
  },
  {
   "cell_type": "markdown",
   "metadata": {},
   "source": [
    "Оставим только уникальные запросы:"
   ]
  },
  {
   "cell_type": "code",
   "execution_count": 368,
   "metadata": {},
   "outputs": [
    {
     "data": {
      "text/plain": [
       "array(['Средство универсальное Prosept Universal Spray, 500мл',\n",
       "       'Концентрат Prosept Multipower для мытья полов, цитрус 1л',\n",
       "       'Средство для чистки люстр Prosept Universal Anti-dust, 500мл',\n",
       "       ...,\n",
       "       'Средство для удаления клейкой ленты, клея, наклеек 0,4л PROSEPT Duty Universal готовый состав',\n",
       "       'Отбеливатель для древесины PROSEPT ECO 50 готовый состав 1 кг',\n",
       "       'Герметик акриловый межшовный для деревянных конструкций, цвет \"Орех\" готовый состав 0,6 кг'],\n",
       "      dtype=object)"
      ]
     },
     "execution_count": 368,
     "metadata": {},
     "output_type": "execute_result"
    }
   ],
   "source": [
    "prosept.marketing_dealer_price['product_name'].unique()"
   ]
  },
  {
   "cell_type": "code",
   "execution_count": 369,
   "metadata": {},
   "outputs": [],
   "source": [
    "prosept.marketing_dealer_price.drop_duplicates(subset=['product_name'] ,\n",
    "                                               keep='last',\n",
    "                                               inplace=True)"
   ]
  },
  {
   "cell_type": "code",
   "execution_count": 370,
   "metadata": {},
   "outputs": [
    {
     "data": {
      "text/plain": [
       "1930"
      ]
     },
     "execution_count": 370,
     "metadata": {},
     "output_type": "execute_result"
    }
   ],
   "source": [
    "prosept.marketing_dealer_price.shape[0]"
   ]
  },
  {
   "cell_type": "markdown",
   "metadata": {},
   "source": [
    "Проверим, остались ли дубликаты:"
   ]
  },
  {
   "cell_type": "code",
   "execution_count": 371,
   "metadata": {},
   "outputs": [
    {
     "data": {
      "text/plain": [
       "0"
      ]
     },
     "execution_count": 371,
     "metadata": {},
     "output_type": "execute_result"
    }
   ],
   "source": [
    "prosept.marketing_dealer_price[prosept.marketing_dealer_price\n",
    "                               .drop(columns=['date'])\n",
    "                               .duplicated(keep=False)].sort_values(by='product_key').shape[0]"
   ]
  },
  {
   "cell_type": "markdown",
   "metadata": {},
   "source": [
    "Посмотрим на диапазон дат:"
   ]
  },
  {
   "cell_type": "code",
   "execution_count": 372,
   "metadata": {},
   "outputs": [
    {
     "data": {
      "text/plain": [
       "2023-07-31    1711\n",
       "2023-07-12      65\n",
       "2023-07-18      41\n",
       "2023-07-21      37\n",
       "2023-07-28      32\n",
       "2023-07-17      18\n",
       "2023-07-26       8\n",
       "2023-07-19       6\n",
       "2023-07-14       5\n",
       "2023-07-25       3\n",
       "2023-07-11       2\n",
       "2023-07-24       2\n",
       "Name: date, dtype: int64"
      ]
     },
     "execution_count": 372,
     "metadata": {},
     "output_type": "execute_result"
    }
   ],
   "source": [
    "prosept.marketing_dealer_price.date.value_counts()"
   ]
  },
  {
   "cell_type": "code",
   "execution_count": 373,
   "metadata": {},
   "outputs": [
    {
     "data": {
      "text/plain": [
       "0.89"
      ]
     },
     "execution_count": 373,
     "metadata": {},
     "output_type": "execute_result"
    }
   ],
   "source": [
    "round(prosept.marketing_dealer_price.date.value_counts()[0] / \n",
    "      (prosept.marketing_dealer_price.date.value_counts()[0] + \n",
    "       prosept.marketing_dealer_price.date.value_counts()[1:].sum()), 2)"
   ]
  },
  {
   "cell_type": "markdown",
   "metadata": {},
   "source": [
    "Больше половины данных были, а имеено `89%` были добыты в одинь день - `2023-07-31`."
   ]
  },
  {
   "cell_type": "markdown",
   "metadata": {},
   "source": [
    "Посмотрим на цены"
   ]
  },
  {
   "cell_type": "code",
   "execution_count": 374,
   "metadata": {},
   "outputs": [
    {
     "data": {
      "image/png": "[encoded data removed]",
      "text/plain": [
       "<Figure size 1200x1200 with 3 Axes>"
      ]
     },
     "metadata": {},
     "output_type": "display_data"
    }
   ],
   "source": [
    "analyzer.plot_hist(prosept.marketing_dealer_price['price'])"
   ]
  },
  {
   "cell_type": "code",
   "execution_count": 375,
   "metadata": {},
   "outputs": [
    {
     "data": {
      "text/plain": [
       "count     1930.000000\n",
       "mean      1285.336788\n",
       "std       2079.956125\n",
       "min          0.000000\n",
       "25%        319.000000\n",
       "50%        626.000000\n",
       "75%       1314.750000\n",
       "max      34500.000000\n",
       "Name: price, dtype: float64"
      ]
     },
     "execution_count": 375,
     "metadata": {},
     "output_type": "execute_result"
    }
   ],
   "source": [
    "prosept.marketing_dealer_price['price'].describe()"
   ]
  },
  {
   "cell_type": "code",
   "execution_count": 376,
   "metadata": {},
   "outputs": [
    {
     "data": {
      "text/plain": [
       "11528.36"
      ]
     },
     "execution_count": 376,
     "metadata": {},
     "output_type": "execute_result"
    }
   ],
   "source": [
    "round(prosept.marketing_dealer_price['price'].quantile(.995),2)"
   ]
  },
  {
   "cell_type": "markdown",
   "metadata": {},
   "source": [
    "Можно сделать следующие выводы:\n",
    "1. `95% данных` лежит в деапазоне до ~5 тысяч. \n",
    "2. `Среднее` больше `медианы` в 2 раза, что говорит нам о длинном правом хвосте.\n",
    "3. Цена до `10050.1` содержит в себе 99,5% всего товара. \n",
    "\n",
    "Следовательно, либо есть редкие, но очень дорогие позиции, либо это аномалии. Стоит это учитывать при использовании цены как признака. Посмотрим на данные:"
   ]
  },
  {
   "cell_type": "code",
   "execution_count": 377,
   "metadata": {},
   "outputs": [],
   "source": [
    "anomalies = (prosept.marketing_dealer_price.loc[\n",
    "    prosept.marketing_dealer_price['price'] > \n",
    "    prosept.marketing_dealer_price['price'].quantile(.995)]\n",
    ")"
   ]
  },
  {
   "cell_type": "code",
   "execution_count": 378,
   "metadata": {},
   "outputs": [
    {
     "data": {
      "text/html": [
       "<div>\n",
       "<style scoped>\n",
       "    .dataframe tbody tr th:only-of-type {\n",
       "        vertical-align: middle;\n",
       "    }\n",
       "\n",
       "    .dataframe tbody tr th {\n",
       "        vertical-align: top;\n",
       "    }\n",
       "\n",
       "    .dataframe thead th {\n",
       "        text-align: right;\n",
       "    }\n",
       "</style>\n",
       "<table border=\"1\" class=\"dataframe\">\n",
       "  <thead>\n",
       "    <tr style=\"text-align: right;\">\n",
       "      <th></th>\n",
       "      <th>product_key</th>\n",
       "      <th>price</th>\n",
       "      <th>product_url</th>\n",
       "      <th>product_name</th>\n",
       "      <th>date</th>\n",
       "      <th>dealer_id</th>\n",
       "    </tr>\n",
       "  </thead>\n",
       "  <tbody>\n",
       "    <tr>\n",
       "      <th>18428</th>\n",
       "      <td>100156075</td>\n",
       "      <td>34500.0</td>\n",
       "      <td>https://www.bafus.ru/100156075/</td>\n",
       "      <td>Просепт 46 антисептик транспортный для пиломат...</td>\n",
       "      <td>2023-07-31</td>\n",
       "      <td>3</td>\n",
       "    </tr>\n",
       "    <tr>\n",
       "      <th>18426</th>\n",
       "      <td>200671196</td>\n",
       "      <td>26400.0</td>\n",
       "      <td>https://www.bafus.ru/200671196/</td>\n",
       "      <td>Просепт 42 антисептик для консервации круглого...</td>\n",
       "      <td>2023-07-31</td>\n",
       "      <td>3</td>\n",
       "    </tr>\n",
       "    <tr>\n",
       "      <th>18718</th>\n",
       "      <td>200544322</td>\n",
       "      <td>21500.0</td>\n",
       "      <td>https://www.bafus.ru/200544322/</td>\n",
       "      <td>Просепт Bath Krot Bio биосредство для жироулов...</td>\n",
       "      <td>2023-07-31</td>\n",
       "      <td>3</td>\n",
       "    </tr>\n",
       "    <tr>\n",
       "      <th>18597</th>\n",
       "      <td>200671222</td>\n",
       "      <td>14979.0</td>\n",
       "      <td>https://www.bafus.ru/200671222/</td>\n",
       "      <td>Просепт Ultra антисептик невымываемый для отве...</td>\n",
       "      <td>2023-07-31</td>\n",
       "      <td>3</td>\n",
       "    </tr>\n",
       "    <tr>\n",
       "      <th>18598</th>\n",
       "      <td>200711438</td>\n",
       "      <td>14979.0</td>\n",
       "      <td>https://www.bafus.ru/200711438/</td>\n",
       "      <td>Просепт Ultra антисептик невымываемый для отве...</td>\n",
       "      <td>2023-07-31</td>\n",
       "      <td>3</td>\n",
       "    </tr>\n",
       "  </tbody>\n",
       "</table>\n",
       "</div>"
      ],
      "text/plain": [
       "      product_key    price                      product_url  \\\n",
       "18428   100156075  34500.0  https://www.bafus.ru/100156075/   \n",
       "18426   200671196  26400.0  https://www.bafus.ru/200671196/   \n",
       "18718   200544322  21500.0  https://www.bafus.ru/200544322/   \n",
       "18597   200671222  14979.0  https://www.bafus.ru/200671222/   \n",
       "18598   200711438  14979.0  https://www.bafus.ru/200711438/   \n",
       "\n",
       "                                            product_name       date  dealer_id  \n",
       "18428  Просепт 46 антисептик транспортный для пиломат... 2023-07-31          3  \n",
       "18426  Просепт 42 антисептик для консервации круглого... 2023-07-31          3  \n",
       "18718  Просепт Bath Krot Bio биосредство для жироулов... 2023-07-31          3  \n",
       "18597  Просепт Ultra антисептик невымываемый для отве... 2023-07-31          3  \n",
       "18598  Просепт Ultra антисептик невымываемый для отве... 2023-07-31          3  "
      ]
     },
     "execution_count": 378,
     "metadata": {},
     "output_type": "execute_result"
    }
   ],
   "source": [
    "anomalies.sort_values(by='price', ascending=False).head()"
   ]
  },
  {
   "cell_type": "markdown",
   "metadata": {},
   "source": [
    "Можно обратить внимание, что данные с одного сайта. Посмотрим на другие сайты в анамалиях:"
   ]
  },
  {
   "cell_type": "code",
   "execution_count": 379,
   "metadata": {},
   "outputs": [
    {
     "data": {
      "text/plain": [
       "https://www.bafus.ru             8\n",
       "https://www.vseinstrumenti.ru    2\n",
       "Name: product_url, dtype: int64"
      ]
     },
     "execution_count": 379,
     "metadata": {},
     "output_type": "execute_result"
    }
   ],
   "source": [
    "anomalies_url = anomalies['product_url'].apply(lambda x: urlparse(x).scheme + \"://\" + urlparse(x).netloc)\n",
    "anomalies_url.value_counts()"
   ]
  },
  {
   "cell_type": "markdown",
   "metadata": {},
   "source": [
    "Все данные с двух сайтов. Исследуем всю доступную информацию о сайтах:"
   ]
  },
  {
   "cell_type": "code",
   "execution_count": 380,
   "metadata": {},
   "outputs": [
    {
     "data": {
      "text/plain": [
       "https://www.bafus.ru             410\n",
       "https://www.vseinstrumenti.ru    299\n",
       "https://www.ozon.ru              239\n",
       "https://vimos.ru                 175\n",
       "https://www.sima-land.ru         137\n",
       "https://www.castorama.ru         126\n",
       "https://www.onlinetrade.ru       104\n",
       "https://spb.leroymerlin.ru        99\n",
       "https://www.wildberries.ru        82\n",
       "https://akson.ru                  77\n",
       "https://baucenter.ru              51\n",
       "https://kazan.megastroy.com       45\n",
       "https://vegosm.ru                 27\n",
       "https://www.sdvor.com             20\n",
       "https://moscow.petrovich.ru       12\n",
       "https://api.ozon.ru                2\n",
       "Name: product_url, dtype: int64"
      ]
     },
     "execution_count": 380,
     "metadata": {},
     "output_type": "execute_result"
    }
   ],
   "source": [
    "urls = (prosept.marketing_dealer_price['product_url']\n",
    "        .dropna()\n",
    "        .apply(lambda x: urlparse(x).scheme + \"://\" + urlparse(x).netloc))\n",
    "urls.value_counts()"
   ]
  },
  {
   "cell_type": "markdown",
   "metadata": {},
   "source": [
    "Первые два места занимают сайты, где наблюдаются аномалии. Так что, можно сделать вывод, что это нечастое явление. "
   ]
  },
  {
   "cell_type": "markdown",
   "metadata": {},
   "source": [
    "Удалим лишние колонки:"
   ]
  },
  {
   "cell_type": "code",
   "execution_count": 381,
   "metadata": {},
   "outputs": [],
   "source": [
    "prosept.marketing_dealer_price.drop(columns=['price','product_url','date'], inplace=True)"
   ]
  },
  {
   "cell_type": "markdown",
   "metadata": {},
   "source": [
    "### Вывод\n",
    "\n",
    "Данные представляют собой датафрейм с данными, которые были получены в результате парсинга данных с сайтов диллеров. В датасете было найдено множество дубликатов, которые возникали в результате парсинга в разные дни одних и тех же значений. \n",
    "В некоторых местах, где не было найдено значения `product_key`, данные заменены на `product_url`. \n",
    "\n",
    "В конечном результате, после обработки df остались:\n",
    "1. `1930` строк;\n",
    "2. 3 колонки - `product_key`, `product_name`, `dealer_id`."
   ]
  },
  {
   "cell_type": "markdown",
   "metadata": {},
   "source": [
    "## Marketing_product"
   ]
  },
  {
   "cell_type": "markdown",
   "metadata": {},
   "source": [
    "Датасет представляет собой список товаров, которые производит и распространяет заказчик."
   ]
  },
  {
   "cell_type": "code",
   "execution_count": 382,
   "metadata": {},
   "outputs": [
    {
     "name": "stdout",
     "output_type": "stream",
     "text": [
      "<class 'pandas.core.frame.DataFrame'>\n",
      "Int64Index: 496 entries, 1 to 513\n",
      "Data columns (total 14 columns):\n",
      " #   Column             Non-Null Count  Dtype  \n",
      "---  ------             --------------  -----  \n",
      " 0   Unnamed: 0         496 non-null    int64  \n",
      " 1   article            496 non-null    object \n",
      " 2   ean_13             464 non-null    float64\n",
      " 3   name               494 non-null    object \n",
      " 4   cost               491 non-null    float64\n",
      " 5   recommended_price  491 non-null    float64\n",
      " 6   category_id        447 non-null    float64\n",
      " 7   ozon_name          458 non-null    object \n",
      " 8   name_1c            485 non-null    object \n",
      " 9   wb_name            455 non-null    object \n",
      " 10  ozon_article       365 non-null    float64\n",
      " 11  wb_article         340 non-null    float64\n",
      " 12  ym_article         337 non-null    object \n",
      " 13  wb_article_td      32 non-null     object \n",
      "dtypes: float64(6), int64(1), object(7)\n",
      "memory usage: 58.1+ KB\n"
     ]
    }
   ],
   "source": [
    "prosept.marketing_product.info()"
   ]
  },
  {
   "cell_type": "markdown",
   "metadata": {},
   "source": [
    "У нас есть колонка `Unnamed:0`, которая возникает из-за того, что в файле есть безымянная колонка с индексом. Её можно сразу удалить:"
   ]
  },
  {
   "cell_type": "code",
   "execution_count": 383,
   "metadata": {},
   "outputs": [],
   "source": [
    "prosept.marketing_product.drop(columns='Unnamed: 0', inplace=True)"
   ]
  },
  {
   "cell_type": "code",
   "execution_count": 384,
   "metadata": {},
   "outputs": [
    {
     "data": {
      "text/html": [
       "<div>\n",
       "<style scoped>\n",
       "    .dataframe tbody tr th:only-of-type {\n",
       "        vertical-align: middle;\n",
       "    }\n",
       "\n",
       "    .dataframe tbody tr th {\n",
       "        vertical-align: top;\n",
       "    }\n",
       "\n",
       "    .dataframe thead th {\n",
       "        text-align: right;\n",
       "    }\n",
       "</style>\n",
       "<table border=\"1\" class=\"dataframe\">\n",
       "  <thead>\n",
       "    <tr style=\"text-align: right;\">\n",
       "      <th></th>\n",
       "      <th>article</th>\n",
       "      <th>ean_13</th>\n",
       "      <th>name</th>\n",
       "      <th>cost</th>\n",
       "      <th>recommended_price</th>\n",
       "      <th>category_id</th>\n",
       "      <th>ozon_name</th>\n",
       "      <th>name_1c</th>\n",
       "      <th>wb_name</th>\n",
       "      <th>ozon_article</th>\n",
       "      <th>wb_article</th>\n",
       "      <th>ym_article</th>\n",
       "      <th>wb_article_td</th>\n",
       "    </tr>\n",
       "    <tr>\n",
       "      <th>id</th>\n",
       "      <th></th>\n",
       "      <th></th>\n",
       "      <th></th>\n",
       "      <th></th>\n",
       "      <th></th>\n",
       "      <th></th>\n",
       "      <th></th>\n",
       "      <th></th>\n",
       "      <th></th>\n",
       "      <th></th>\n",
       "      <th></th>\n",
       "      <th></th>\n",
       "      <th></th>\n",
       "    </tr>\n",
       "  </thead>\n",
       "  <tbody>\n",
       "    <tr>\n",
       "      <th>57</th>\n",
       "      <td>110-1</td>\n",
       "      <td>4.680008e+12</td>\n",
       "      <td>Гелеобразное средство усиленного действия для ...</td>\n",
       "      <td>122.54</td>\n",
       "      <td>286.0</td>\n",
       "      <td>52.0</td>\n",
       "      <td>Гель для удаления ржавчины и минеральных отлож...</td>\n",
       "      <td>Гель для удаления ржавчины и минеральных отлож...</td>\n",
       "      <td>Гель для удаления ржавчины и минеральных отлож...</td>\n",
       "      <td>413264550.0</td>\n",
       "      <td>149811020.0</td>\n",
       "      <td>110-1</td>\n",
       "      <td>110-10</td>\n",
       "    </tr>\n",
       "    <tr>\n",
       "      <th>493</th>\n",
       "      <td>М029-2</td>\n",
       "      <td>4.610093e+12</td>\n",
       "      <td>Набор Duty Leather, 0.4 л, 2 шт</td>\n",
       "      <td>207.36</td>\n",
       "      <td>462.0</td>\n",
       "      <td>NaN</td>\n",
       "      <td>Набор Duty Leather, 0.4 л, 2 шт</td>\n",
       "      <td>Набор Duty Leather, 0.4 л, 2 шт</td>\n",
       "      <td>Набор Duty Leather, 0.4 л, 2 шт</td>\n",
       "      <td>NaN</td>\n",
       "      <td>NaN</td>\n",
       "      <td>NaN</td>\n",
       "      <td>NaN</td>\n",
       "    </tr>\n",
       "    <tr>\n",
       "      <th>147</th>\n",
       "      <td>305-2</td>\n",
       "      <td>4.610093e+12</td>\n",
       "      <td>Кондиционер для белья с ароматом  королевского...</td>\n",
       "      <td>157.73</td>\n",
       "      <td>342.0</td>\n",
       "      <td>29.0</td>\n",
       "      <td>Кондиционер для белья \"Королевский Ирис\" Prose...</td>\n",
       "      <td>Кондиционер для белья \"Королевский Ирис\" Prose...</td>\n",
       "      <td>Кондиционер для белья \"Королевский Ирис\" Prose...</td>\n",
       "      <td>339377922.0</td>\n",
       "      <td>150032962.0</td>\n",
       "      <td>305-2</td>\n",
       "      <td>NaN</td>\n",
       "    </tr>\n",
       "    <tr>\n",
       "      <th>97</th>\n",
       "      <td>306-5</td>\n",
       "      <td>4.680008e+12</td>\n",
       "      <td>Средство для мытья посуды в посудомоечной маши...</td>\n",
       "      <td>742.88</td>\n",
       "      <td>1611.0</td>\n",
       "      <td>42.0</td>\n",
       "      <td>Гель для посудомоечных машин, для мягкой воды,...</td>\n",
       "      <td>Гель для посудомоечных машин, для мягкой воды,...</td>\n",
       "      <td>Гель для посудомоечных машин, для мягкой воды,...</td>\n",
       "      <td>451705905.0</td>\n",
       "      <td>150088969.0</td>\n",
       "      <td>306-5</td>\n",
       "      <td>NaN</td>\n",
       "    </tr>\n",
       "    <tr>\n",
       "      <th>178</th>\n",
       "      <td>144-5/5</td>\n",
       "      <td>4.680008e+12</td>\n",
       "      <td>жидкое гель-мыло эконом-класса. C ароматом ябл...</td>\n",
       "      <td>176.86</td>\n",
       "      <td>384.0</td>\n",
       "      <td>33.0</td>\n",
       "      <td>жидкое гель-мыло эконом-класса. C ароматом ябл...</td>\n",
       "      <td>жидкое гель-мыло эконом-класса. C ароматом ябл...</td>\n",
       "      <td>жидкое гель-мыло эконом-класса. C ароматом ябл...</td>\n",
       "      <td>NaN</td>\n",
       "      <td>NaN</td>\n",
       "      <td>NaN</td>\n",
       "      <td>NaN</td>\n",
       "    </tr>\n",
       "  </tbody>\n",
       "</table>\n",
       "</div>"
      ],
      "text/plain": [
       "     article        ean_13                                               name  \\\n",
       "id                                                                              \n",
       "57     110-1  4.680008e+12  Гелеобразное средство усиленного действия для ...   \n",
       "493   М029-2  4.610093e+12                    Набор Duty Leather, 0.4 л, 2 шт   \n",
       "147    305-2  4.610093e+12  Кондиционер для белья с ароматом  королевского...   \n",
       "97     306-5  4.680008e+12  Средство для мытья посуды в посудомоечной маши...   \n",
       "178  144-5/5  4.680008e+12  жидкое гель-мыло эконом-класса. C ароматом ябл...   \n",
       "\n",
       "       cost  recommended_price  category_id  \\\n",
       "id                                            \n",
       "57   122.54              286.0         52.0   \n",
       "493  207.36              462.0          NaN   \n",
       "147  157.73              342.0         29.0   \n",
       "97   742.88             1611.0         42.0   \n",
       "178  176.86              384.0         33.0   \n",
       "\n",
       "                                             ozon_name  \\\n",
       "id                                                       \n",
       "57   Гель для удаления ржавчины и минеральных отлож...   \n",
       "493                    Набор Duty Leather, 0.4 л, 2 шт   \n",
       "147  Кондиционер для белья \"Королевский Ирис\" Prose...   \n",
       "97   Гель для посудомоечных машин, для мягкой воды,...   \n",
       "178  жидкое гель-мыло эконом-класса. C ароматом ябл...   \n",
       "\n",
       "                                               name_1c  \\\n",
       "id                                                       \n",
       "57   Гель для удаления ржавчины и минеральных отлож...   \n",
       "493                    Набор Duty Leather, 0.4 л, 2 шт   \n",
       "147  Кондиционер для белья \"Королевский Ирис\" Prose...   \n",
       "97   Гель для посудомоечных машин, для мягкой воды,...   \n",
       "178  жидкое гель-мыло эконом-класса. C ароматом ябл...   \n",
       "\n",
       "                                               wb_name  ozon_article  \\\n",
       "id                                                                     \n",
       "57   Гель для удаления ржавчины и минеральных отлож...   413264550.0   \n",
       "493                    Набор Duty Leather, 0.4 л, 2 шт           NaN   \n",
       "147  Кондиционер для белья \"Королевский Ирис\" Prose...   339377922.0   \n",
       "97   Гель для посудомоечных машин, для мягкой воды,...   451705905.0   \n",
       "178  жидкое гель-мыло эконом-класса. C ароматом ябл...           NaN   \n",
       "\n",
       "      wb_article ym_article wb_article_td  \n",
       "id                                         \n",
       "57   149811020.0      110-1        110-10  \n",
       "493          NaN        NaN           NaN  \n",
       "147  150032962.0      305-2           NaN  \n",
       "97   150088969.0      306-5           NaN  \n",
       "178          NaN        NaN           NaN  "
      ]
     },
     "execution_count": 384,
     "metadata": {},
     "output_type": "execute_result"
    }
   ],
   "source": [
    "prosept.marketing_product.sample(5, random_state=RANDOM_SEED)"
   ]
  },
  {
   "cell_type": "code",
   "execution_count": 385,
   "metadata": {},
   "outputs": [
    {
     "data": {
      "image/png": "[encoded data removed]",
      "text/plain": [
       "<Figure size 1200x800 with 1 Axes>"
      ]
     },
     "metadata": {},
     "output_type": "display_data"
    }
   ],
   "source": [
    "prosept.check_misses_marketing_product()"
   ]
  },
  {
   "cell_type": "markdown",
   "metadata": {},
   "source": [
    "В данных есть много пропусков. \n",
    "\n",
    "1. Первая группа пропусков - это `article` маркетплейсов. На первом месте `wb_article_td` - вероятно, это калонка имеет связь с `wb_article`, а `td` = `to discuss`;\n",
    "2. ~`10%` пропусков;\n",
    "3. Далее идут имена товаров в `wb` и `ozon`;\n",
    "4. Затем `European Article Number`;\n",
    "5. Далее незначительное количество пропусков в цене, рекомендованной цене и названии товара.\n",
    "\n",
    "Стоит отметить, что в целях анализа нас точно интересуют колонки `name_1c` и `name`. В первой - `2.22%` пропусков, во второй - `name`. Так как строки отражают один и тот же товар, целесообразно, по-возможности, заменить пропуски на значения друг друга."
   ]
  },
  {
   "cell_type": "code",
   "execution_count": 386,
   "metadata": {},
   "outputs": [
    {
     "name": "stdout",
     "output_type": "stream",
     "text": [
      "Дубликаты в \"marketing_product\" не обнаружены\n"
     ]
    }
   ],
   "source": [
    "prosept.check_duplicates_marketing_product()"
   ]
  },
  {
   "cell_type": "markdown",
   "metadata": {},
   "source": [
    "Посмотрим на дубликаты по колонкам:"
   ]
  },
  {
   "cell_type": "code",
   "execution_count": 387,
   "metadata": {},
   "outputs": [
    {
     "data": {
      "text/plain": [
       "8"
      ]
     },
     "execution_count": 387,
     "metadata": {},
     "output_type": "execute_result"
    }
   ],
   "source": [
    "prosept.marketing_product[prosept.marketing_product['name'].duplicated()].shape[0]"
   ]
  },
  {
   "cell_type": "code",
   "execution_count": 388,
   "metadata": {},
   "outputs": [
    {
     "data": {
      "text/html": [
       "<div>\n",
       "<style scoped>\n",
       "    .dataframe tbody tr th:only-of-type {\n",
       "        vertical-align: middle;\n",
       "    }\n",
       "\n",
       "    .dataframe tbody tr th {\n",
       "        vertical-align: top;\n",
       "    }\n",
       "\n",
       "    .dataframe thead th {\n",
       "        text-align: right;\n",
       "    }\n",
       "</style>\n",
       "<table border=\"1\" class=\"dataframe\">\n",
       "  <thead>\n",
       "    <tr style=\"text-align: right;\">\n",
       "      <th></th>\n",
       "      <th>article</th>\n",
       "      <th>ean_13</th>\n",
       "      <th>name</th>\n",
       "      <th>cost</th>\n",
       "      <th>recommended_price</th>\n",
       "      <th>category_id</th>\n",
       "      <th>ozon_name</th>\n",
       "      <th>name_1c</th>\n",
       "      <th>wb_name</th>\n",
       "      <th>ozon_article</th>\n",
       "      <th>wb_article</th>\n",
       "      <th>ym_article</th>\n",
       "      <th>wb_article_td</th>\n",
       "    </tr>\n",
       "    <tr>\n",
       "      <th>id</th>\n",
       "      <th></th>\n",
       "      <th></th>\n",
       "      <th></th>\n",
       "      <th></th>\n",
       "      <th></th>\n",
       "      <th></th>\n",
       "      <th></th>\n",
       "      <th></th>\n",
       "      <th></th>\n",
       "      <th></th>\n",
       "      <th></th>\n",
       "      <th></th>\n",
       "      <th></th>\n",
       "    </tr>\n",
       "  </thead>\n",
       "  <tbody>\n",
       "    <tr>\n",
       "      <th>363</th>\n",
       "      <td>0024-7б</td>\n",
       "      <td>4.680008e+12</td>\n",
       "      <td>Герметик акриловой  цвет Белый, 7 кг</td>\n",
       "      <td>3149.0</td>\n",
       "      <td>5492.0</td>\n",
       "      <td>25.0</td>\n",
       "      <td>Герметик акриловый для швов для деревянных дом...</td>\n",
       "      <td>Герметик акриловой  цвет Белый, 7 кг</td>\n",
       "      <td>Герметик акриловый для швов для деревянных дом...</td>\n",
       "      <td>NaN</td>\n",
       "      <td>NaN</td>\n",
       "      <td>NaN</td>\n",
       "      <td>NaN</td>\n",
       "    </tr>\n",
       "    <tr>\n",
       "      <th>502</th>\n",
       "      <td>0024-7 б</td>\n",
       "      <td>NaN</td>\n",
       "      <td>Герметик акриловой  цвет Белый, 7 кг</td>\n",
       "      <td>NaN</td>\n",
       "      <td>NaN</td>\n",
       "      <td>NaN</td>\n",
       "      <td>NaN</td>\n",
       "      <td>NaN</td>\n",
       "      <td>NaN</td>\n",
       "      <td>189522867.0</td>\n",
       "      <td>150126216.0</td>\n",
       "      <td>0024-7-б</td>\n",
       "      <td>NaN</td>\n",
       "    </tr>\n",
       "    <tr>\n",
       "      <th>223</th>\n",
       "      <td>0024-3 б</td>\n",
       "      <td>4.610093e+12</td>\n",
       "      <td>Герметик акриловый цвет Белый, 3 кг</td>\n",
       "      <td>1251.0</td>\n",
       "      <td>2145.0</td>\n",
       "      <td>25.0</td>\n",
       "      <td>Герметик акриловый для швов для деревянных дом...</td>\n",
       "      <td>Герметик акриловый цвет Белый, 3 кг</td>\n",
       "      <td>Герметик акриловый для швов для деревянных дом...</td>\n",
       "      <td>453200111.0</td>\n",
       "      <td>150126218.0</td>\n",
       "      <td>0024-3-б</td>\n",
       "      <td>NaN</td>\n",
       "    </tr>\n",
       "    <tr>\n",
       "      <th>362</th>\n",
       "      <td>0024-3б</td>\n",
       "      <td>NaN</td>\n",
       "      <td>Герметик акриловый цвет Белый, 3 кг</td>\n",
       "      <td>1251.0</td>\n",
       "      <td>2145.0</td>\n",
       "      <td>25.0</td>\n",
       "      <td>NaN</td>\n",
       "      <td>Герметик акриловый цвет Белый, 3 кг</td>\n",
       "      <td>NaN</td>\n",
       "      <td>NaN</td>\n",
       "      <td>NaN</td>\n",
       "      <td>NaN</td>\n",
       "      <td>NaN</td>\n",
       "    </tr>\n",
       "    <tr>\n",
       "      <th>225</th>\n",
       "      <td>0024-3 м</td>\n",
       "      <td>4.610093e+12</td>\n",
       "      <td>Герметик акриловый цвет Медовый, 3 кг</td>\n",
       "      <td>1251.0</td>\n",
       "      <td>2145.0</td>\n",
       "      <td>25.0</td>\n",
       "      <td>Герметик акриловый для швов для деревянных дом...</td>\n",
       "      <td>Герметик акриловый цвет Медовый, 3 кг</td>\n",
       "      <td>Герметик акриловый для швов для деревянных дом...</td>\n",
       "      <td>453214675.0</td>\n",
       "      <td>150126205.0</td>\n",
       "      <td>0024-3-м</td>\n",
       "      <td>NaN</td>\n",
       "    </tr>\n",
       "    <tr>\n",
       "      <th>366</th>\n",
       "      <td>0024-3м</td>\n",
       "      <td>NaN</td>\n",
       "      <td>Герметик акриловый цвет Медовый, 3 кг</td>\n",
       "      <td>1251.0</td>\n",
       "      <td>2145.0</td>\n",
       "      <td>25.0</td>\n",
       "      <td>NaN</td>\n",
       "      <td>Герметик акриловый цвет Медовый, 3 кг</td>\n",
       "      <td>NaN</td>\n",
       "      <td>NaN</td>\n",
       "      <td>NaN</td>\n",
       "      <td>NaN</td>\n",
       "      <td>NaN</td>\n",
       "    </tr>\n",
       "    <tr>\n",
       "      <th>224</th>\n",
       "      <td>0024-3 о</td>\n",
       "      <td>4.610093e+12</td>\n",
       "      <td>Герметик акриловый цвет Орех, 3 кг</td>\n",
       "      <td>1251.0</td>\n",
       "      <td>2145.0</td>\n",
       "      <td>25.0</td>\n",
       "      <td>Герметик акриловый для швов для деревянных дом...</td>\n",
       "      <td>Герметик акриловый цвет Орех, 3 кг</td>\n",
       "      <td>Герметик акриловый для швов для деревянных дом...</td>\n",
       "      <td>453205718.0</td>\n",
       "      <td>150126215.0</td>\n",
       "      <td>0024-3-о</td>\n",
       "      <td>NaN</td>\n",
       "    </tr>\n",
       "    <tr>\n",
       "      <th>374</th>\n",
       "      <td>0024-3о</td>\n",
       "      <td>NaN</td>\n",
       "      <td>Герметик акриловый цвет Орех, 3 кг</td>\n",
       "      <td>1251.0</td>\n",
       "      <td>2145.0</td>\n",
       "      <td>25.0</td>\n",
       "      <td>NaN</td>\n",
       "      <td>Герметик акриловый цвет Орех, 3 кг</td>\n",
       "      <td>NaN</td>\n",
       "      <td>NaN</td>\n",
       "      <td>NaN</td>\n",
       "      <td>NaN</td>\n",
       "      <td>NaN</td>\n",
       "    </tr>\n",
       "    <tr>\n",
       "      <th>226</th>\n",
       "      <td>0024-3 с</td>\n",
       "      <td>4.610093e+12</td>\n",
       "      <td>Герметик акриловый цвет Сосна, 3 кг</td>\n",
       "      <td>1251.0</td>\n",
       "      <td>2145.0</td>\n",
       "      <td>25.0</td>\n",
       "      <td>Герметик акриловый для швов для деревянных дом...</td>\n",
       "      <td>Герметик акриловый цвет Сосна, 3 кг</td>\n",
       "      <td>Герметик акриловый для швов для деревянных дом...</td>\n",
       "      <td>453215204.0</td>\n",
       "      <td>150126208.0</td>\n",
       "      <td>0024-3-с</td>\n",
       "      <td>NaN</td>\n",
       "    </tr>\n",
       "    <tr>\n",
       "      <th>370</th>\n",
       "      <td>0024-3с</td>\n",
       "      <td>NaN</td>\n",
       "      <td>Герметик акриловый цвет Сосна, 3 кг</td>\n",
       "      <td>1251.0</td>\n",
       "      <td>2145.0</td>\n",
       "      <td>25.0</td>\n",
       "      <td>NaN</td>\n",
       "      <td>Герметик акриловый цвет Сосна, 3 кг</td>\n",
       "      <td>NaN</td>\n",
       "      <td>NaN</td>\n",
       "      <td>NaN</td>\n",
       "      <td>NaN</td>\n",
       "      <td>NaN</td>\n",
       "    </tr>\n",
       "    <tr>\n",
       "      <th>227</th>\n",
       "      <td>0024-3т</td>\n",
       "      <td>NaN</td>\n",
       "      <td>Герметик акриловый цвет тик, 3 кг.</td>\n",
       "      <td>1251.0</td>\n",
       "      <td>2145.0</td>\n",
       "      <td>25.0</td>\n",
       "      <td>Герметик акриловый для швов для деревянных дом...</td>\n",
       "      <td>Герметик акриловый цвет тик, 3 кг.</td>\n",
       "      <td>Герметик акриловый для швов для деревянных дом...</td>\n",
       "      <td>NaN</td>\n",
       "      <td>NaN</td>\n",
       "      <td>NaN</td>\n",
       "      <td>NaN</td>\n",
       "    </tr>\n",
       "    <tr>\n",
       "      <th>463</th>\n",
       "      <td>0024-3 т</td>\n",
       "      <td>4.610093e+12</td>\n",
       "      <td>Герметик акриловый цвет тик, 3 кг.</td>\n",
       "      <td>1251.0</td>\n",
       "      <td>2145.0</td>\n",
       "      <td>25.0</td>\n",
       "      <td>Герметик акриловый для швов для деревянных дом...</td>\n",
       "      <td>Герметик акриловый цвет тик, 3 кг.</td>\n",
       "      <td>Герметик акриловый для швов для деревянных дом...</td>\n",
       "      <td>453216309.0</td>\n",
       "      <td>150126206.0</td>\n",
       "      <td>0024-3-т</td>\n",
       "      <td>NaN</td>\n",
       "    </tr>\n",
       "    <tr>\n",
       "      <th>222</th>\n",
       "      <td>0024-06т</td>\n",
       "      <td>NaN</td>\n",
       "      <td>Герметик акриловый цвет тик, ф/п 600мл</td>\n",
       "      <td>376.0</td>\n",
       "      <td>643.0</td>\n",
       "      <td>25.0</td>\n",
       "      <td>NaN</td>\n",
       "      <td>Герметик акриловый цвет тик, ф/п 600мл</td>\n",
       "      <td>NaN</td>\n",
       "      <td>NaN</td>\n",
       "      <td>NaN</td>\n",
       "      <td>NaN</td>\n",
       "      <td>NaN</td>\n",
       "    </tr>\n",
       "    <tr>\n",
       "      <th>440</th>\n",
       "      <td>0024-06 т</td>\n",
       "      <td>4.610093e+12</td>\n",
       "      <td>Герметик акриловый цвет тик, ф/п 600мл</td>\n",
       "      <td>307.0</td>\n",
       "      <td>644.0</td>\n",
       "      <td>25.0</td>\n",
       "      <td>Герметик акриловый для швов для деревянных дом...</td>\n",
       "      <td>Герметик акриловый цвет тик, ф/п 600мл</td>\n",
       "      <td>Герметик акриловый для швов для деревянных дом...</td>\n",
       "      <td>453196408.0</td>\n",
       "      <td>150126203.0</td>\n",
       "      <td>0024-06-т</td>\n",
       "      <td>NaN</td>\n",
       "    </tr>\n",
       "    <tr>\n",
       "      <th>503</th>\n",
       "      <td>0024-7 о</td>\n",
       "      <td>NaN</td>\n",
       "      <td>NaN</td>\n",
       "      <td>NaN</td>\n",
       "      <td>NaN</td>\n",
       "      <td>NaN</td>\n",
       "      <td>NaN</td>\n",
       "      <td>NaN</td>\n",
       "      <td>NaN</td>\n",
       "      <td>NaN</td>\n",
       "      <td>150126213.0</td>\n",
       "      <td>NaN</td>\n",
       "      <td>NaN</td>\n",
       "    </tr>\n",
       "    <tr>\n",
       "      <th>504</th>\n",
       "      <td>w022-05</td>\n",
       "      <td>NaN</td>\n",
       "      <td>NaN</td>\n",
       "      <td>NaN</td>\n",
       "      <td>NaN</td>\n",
       "      <td>NaN</td>\n",
       "      <td>NaN</td>\n",
       "      <td>NaN</td>\n",
       "      <td>NaN</td>\n",
       "      <td>NaN</td>\n",
       "      <td>NaN</td>\n",
       "      <td>NaN</td>\n",
       "      <td>NaN</td>\n",
       "    </tr>\n",
       "  </tbody>\n",
       "</table>\n",
       "</div>"
      ],
      "text/plain": [
       "       article        ean_13                                    name    cost  \\\n",
       "id                                                                             \n",
       "363    0024-7б  4.680008e+12    Герметик акриловой  цвет Белый, 7 кг  3149.0   \n",
       "502   0024-7 б           NaN    Герметик акриловой  цвет Белый, 7 кг     NaN   \n",
       "223   0024-3 б  4.610093e+12     Герметик акриловый цвет Белый, 3 кг  1251.0   \n",
       "362    0024-3б           NaN     Герметик акриловый цвет Белый, 3 кг  1251.0   \n",
       "225   0024-3 м  4.610093e+12   Герметик акриловый цвет Медовый, 3 кг  1251.0   \n",
       "366    0024-3м           NaN   Герметик акриловый цвет Медовый, 3 кг  1251.0   \n",
       "224   0024-3 о  4.610093e+12      Герметик акриловый цвет Орех, 3 кг  1251.0   \n",
       "374    0024-3о           NaN      Герметик акриловый цвет Орех, 3 кг  1251.0   \n",
       "226   0024-3 с  4.610093e+12     Герметик акриловый цвет Сосна, 3 кг  1251.0   \n",
       "370    0024-3с           NaN     Герметик акриловый цвет Сосна, 3 кг  1251.0   \n",
       "227    0024-3т           NaN      Герметик акриловый цвет тик, 3 кг.  1251.0   \n",
       "463   0024-3 т  4.610093e+12      Герметик акриловый цвет тик, 3 кг.  1251.0   \n",
       "222   0024-06т           NaN  Герметик акриловый цвет тик, ф/п 600мл   376.0   \n",
       "440  0024-06 т  4.610093e+12  Герметик акриловый цвет тик, ф/п 600мл   307.0   \n",
       "503   0024-7 о           NaN                                     NaN     NaN   \n",
       "504    w022-05           NaN                                     NaN     NaN   \n",
       "\n",
       "     recommended_price  category_id  \\\n",
       "id                                    \n",
       "363             5492.0         25.0   \n",
       "502                NaN          NaN   \n",
       "223             2145.0         25.0   \n",
       "362             2145.0         25.0   \n",
       "225             2145.0         25.0   \n",
       "366             2145.0         25.0   \n",
       "224             2145.0         25.0   \n",
       "374             2145.0         25.0   \n",
       "226             2145.0         25.0   \n",
       "370             2145.0         25.0   \n",
       "227             2145.0         25.0   \n",
       "463             2145.0         25.0   \n",
       "222              643.0         25.0   \n",
       "440              644.0         25.0   \n",
       "503                NaN          NaN   \n",
       "504                NaN          NaN   \n",
       "\n",
       "                                             ozon_name  \\\n",
       "id                                                       \n",
       "363  Герметик акриловый для швов для деревянных дом...   \n",
       "502                                                NaN   \n",
       "223  Герметик акриловый для швов для деревянных дом...   \n",
       "362                                                NaN   \n",
       "225  Герметик акриловый для швов для деревянных дом...   \n",
       "366                                                NaN   \n",
       "224  Герметик акриловый для швов для деревянных дом...   \n",
       "374                                                NaN   \n",
       "226  Герметик акриловый для швов для деревянных дом...   \n",
       "370                                                NaN   \n",
       "227  Герметик акриловый для швов для деревянных дом...   \n",
       "463  Герметик акриловый для швов для деревянных дом...   \n",
       "222                                                NaN   \n",
       "440  Герметик акриловый для швов для деревянных дом...   \n",
       "503                                                NaN   \n",
       "504                                                NaN   \n",
       "\n",
       "                                    name_1c  \\\n",
       "id                                            \n",
       "363    Герметик акриловой  цвет Белый, 7 кг   \n",
       "502                                     NaN   \n",
       "223     Герметик акриловый цвет Белый, 3 кг   \n",
       "362     Герметик акриловый цвет Белый, 3 кг   \n",
       "225   Герметик акриловый цвет Медовый, 3 кг   \n",
       "366   Герметик акриловый цвет Медовый, 3 кг   \n",
       "224      Герметик акриловый цвет Орех, 3 кг   \n",
       "374      Герметик акриловый цвет Орех, 3 кг   \n",
       "226     Герметик акриловый цвет Сосна, 3 кг   \n",
       "370     Герметик акриловый цвет Сосна, 3 кг   \n",
       "227      Герметик акриловый цвет тик, 3 кг.   \n",
       "463      Герметик акриловый цвет тик, 3 кг.   \n",
       "222  Герметик акриловый цвет тик, ф/п 600мл   \n",
       "440  Герметик акриловый цвет тик, ф/п 600мл   \n",
       "503                                     NaN   \n",
       "504                                     NaN   \n",
       "\n",
       "                                               wb_name  ozon_article  \\\n",
       "id                                                                     \n",
       "363  Герметик акриловый для швов для деревянных дом...           NaN   \n",
       "502                                                NaN   189522867.0   \n",
       "223  Герметик акриловый для швов для деревянных дом...   453200111.0   \n",
       "362                                                NaN           NaN   \n",
       "225  Герметик акриловый для швов для деревянных дом...   453214675.0   \n",
       "366                                                NaN           NaN   \n",
       "224  Герметик акриловый для швов для деревянных дом...   453205718.0   \n",
       "374                                                NaN           NaN   \n",
       "226  Герметик акриловый для швов для деревянных дом...   453215204.0   \n",
       "370                                                NaN           NaN   \n",
       "227  Герметик акриловый для швов для деревянных дом...           NaN   \n",
       "463  Герметик акриловый для швов для деревянных дом...   453216309.0   \n",
       "222                                                NaN           NaN   \n",
       "440  Герметик акриловый для швов для деревянных дом...   453196408.0   \n",
       "503                                                NaN           NaN   \n",
       "504                                                NaN           NaN   \n",
       "\n",
       "      wb_article ym_article wb_article_td  \n",
       "id                                         \n",
       "363          NaN        NaN           NaN  \n",
       "502  150126216.0   0024-7-б           NaN  \n",
       "223  150126218.0   0024-3-б           NaN  \n",
       "362          NaN        NaN           NaN  \n",
       "225  150126205.0   0024-3-м           NaN  \n",
       "366          NaN        NaN           NaN  \n",
       "224  150126215.0   0024-3-о           NaN  \n",
       "374          NaN        NaN           NaN  \n",
       "226  150126208.0   0024-3-с           NaN  \n",
       "370          NaN        NaN           NaN  \n",
       "227          NaN        NaN           NaN  \n",
       "463  150126206.0   0024-3-т           NaN  \n",
       "222          NaN        NaN           NaN  \n",
       "440  150126203.0  0024-06-т           NaN  \n",
       "503  150126213.0        NaN           NaN  \n",
       "504          NaN        NaN           NaN  "
      ]
     },
     "execution_count": 388,
     "metadata": {},
     "output_type": "execute_result"
    }
   ],
   "source": [
    "prosept.marketing_product[prosept.marketing_product['name'].duplicated(keep=False)].sort_values(by='name')"
   ]
  },
  {
   "cell_type": "markdown",
   "metadata": {},
   "source": [
    "Нужно избавиться от дубликатов. Однако перед этим сохраним индексы. Получим словарь со значением которое осталось и значение, которое удалили:"
   ]
  },
  {
   "cell_type": "code",
   "execution_count": 389,
   "metadata": {},
   "outputs": [],
   "source": [
    "keep_dict = dict(zip(prosept.marketing_product[prosept.marketing_product['name'].duplicated(keep='last')].index,\n",
    "                     prosept.marketing_product[prosept.marketing_product['name'].duplicated(keep='first')].index))"
   ]
  },
  {
   "cell_type": "markdown",
   "metadata": {},
   "source": [
    "Удалим дубликаты и пропуски:"
   ]
  },
  {
   "cell_type": "code",
   "execution_count": 390,
   "metadata": {},
   "outputs": [],
   "source": [
    "prosept.marketing_product.drop_duplicates(subset=['name'], inplace=True)\n",
    "prosept.marketing_product.dropna(subset=['name'],inplace=True)"
   ]
  },
  {
   "cell_type": "markdown",
   "metadata": {},
   "source": [
    "Проверим корректность удаления дубликов:"
   ]
  },
  {
   "cell_type": "code",
   "execution_count": 391,
   "metadata": {},
   "outputs": [
    {
     "data": {
      "text/plain": [
       "0"
      ]
     },
     "execution_count": 391,
     "metadata": {},
     "output_type": "execute_result"
    }
   ],
   "source": [
    "prosept.marketing_product[prosept.marketing_product['name'].duplicated()].shape[0]"
   ]
  },
  {
   "cell_type": "markdown",
   "metadata": {},
   "source": [
    "### Заполняем name_1c & name"
   ]
  },
  {
   "cell_type": "markdown",
   "metadata": {},
   "source": [
    "Посмотрим на схожесть этих колонок:"
   ]
  },
  {
   "cell_type": "code",
   "execution_count": 392,
   "metadata": {},
   "outputs": [
    {
     "data": {
      "text/plain": [
       "145"
      ]
     },
     "execution_count": 392,
     "metadata": {},
     "output_type": "execute_result"
    }
   ],
   "source": [
    "prosept.marketing_product[prosept.marketing_product['name'] == prosept.marketing_product['name_1c']].shape[0]"
   ]
  },
  {
   "cell_type": "markdown",
   "metadata": {},
   "source": [
    "`151` значения идентичные, остальные отличаются. Заменим пропуски в `name_1c` на значения из `name`:"
   ]
  },
  {
   "cell_type": "code",
   "execution_count": 393,
   "metadata": {},
   "outputs": [],
   "source": [
    "prosept.marketing_product['name_1c'] = np.where(prosept.marketing_product['name_1c'].isna(),\n",
    "                                                  prosept.marketing_product['name_1c'].fillna(prosept.marketing_product['name']),\n",
    "                                                  prosept.marketing_product['name_1c'])"
   ]
  },
  {
   "cell_type": "markdown",
   "metadata": {},
   "source": [
    "Проверим корректности замены пропусков пропусков:"
   ]
  },
  {
   "cell_type": "code",
   "execution_count": 394,
   "metadata": {},
   "outputs": [
    {
     "data": {
      "text/plain": [
       "0"
      ]
     },
     "execution_count": 394,
     "metadata": {},
     "output_type": "execute_result"
    }
   ],
   "source": [
    "prosept.marketing_product['name_1c'][prosept.marketing_product['name_1c'].isna()].shape[0]"
   ]
  },
  {
   "cell_type": "markdown",
   "metadata": {},
   "source": [
    "Замена произведена корректно"
   ]
  },
  {
   "cell_type": "code",
   "execution_count": 395,
   "metadata": {},
   "outputs": [
    {
     "data": {
      "image/png": "[encoded data removed]",
      "text/plain": [
       "<Figure size 1200x1200 with 3 Axes>"
      ]
     },
     "metadata": {},
     "output_type": "display_data"
    }
   ],
   "source": [
    "analyzer.plot_hist(prosept.marketing_product['cost'])"
   ]
  },
  {
   "cell_type": "code",
   "execution_count": 396,
   "metadata": {},
   "outputs": [
    {
     "data": {
      "image/png": "[encoded data removed]",
      "text/plain": [
       "<Figure size 1200x1200 with 3 Axes>"
      ]
     },
     "metadata": {},
     "output_type": "display_data"
    }
   ],
   "source": [
    "analyzer.plot_hist(prosept.marketing_product['recommended_price'])"
   ]
  },
  {
   "cell_type": "markdown",
   "metadata": {},
   "source": [
    "Вероятно, столбцы ~ похожи между собой. Логично предположить, что коэффициент наценки долджен быть +- одинаковый. Проверим:"
   ]
  },
  {
   "cell_type": "code",
   "execution_count": 397,
   "metadata": {},
   "outputs": [
    {
     "data": {
      "text/plain": [
       "0.99"
      ]
     },
     "execution_count": 397,
     "metadata": {},
     "output_type": "execute_result"
    }
   ],
   "source": [
    "round(prosept.marketing_product['recommended_price'].corr(prosept.marketing_product['cost']), 2)"
   ]
  },
  {
   "cell_type": "markdown",
   "metadata": {},
   "source": [
    "Коэффициент корреляции - `0.99`. Что говорит о том, что столбец `cost`, скорее всего, не будет представлять для нас никакой полезной информации. \n",
    "\n",
    "Удалим ненужные колонки:"
   ]
  },
  {
   "cell_type": "code",
   "execution_count": 398,
   "metadata": {},
   "outputs": [],
   "source": [
    "prosept.marketing_product = prosept.marketing_product[['name','name_1c']]"
   ]
  },
  {
   "cell_type": "code",
   "execution_count": 399,
   "metadata": {},
   "outputs": [
    {
     "name": "stdout",
     "output_type": "stream",
     "text": [
      "<class 'pandas.core.frame.DataFrame'>\n",
      "Int64Index: 487 entries, 1 to 513\n",
      "Data columns (total 2 columns):\n",
      " #   Column   Non-Null Count  Dtype \n",
      "---  ------   --------------  ----- \n",
      " 0   name     487 non-null    object\n",
      " 1   name_1c  487 non-null    object\n",
      "dtypes: object(2)\n",
      "memory usage: 11.4+ KB\n"
     ]
    }
   ],
   "source": [
    "prosept.marketing_product.info()"
   ]
  },
  {
   "cell_type": "markdown",
   "metadata": {},
   "source": [
    "### Вывод:\n",
    "\n",
    "Данные представляют собой данные о позициях клиента. Изначальный датафрейм состоял из `496` строк.\n",
    "\n",
    "В ходе анализа были обнаружены следующие обстоятельства:\n",
    "1. В данных есть дубликаты по колонке `article`, которые были вызваны лишними пробелами. В связи с этим возникают различные аномалии и пропуски. Удалили неверные значения;\n",
    "2. Данные из `name` и `name_1c` похожи на `30%`. При этом в колонке `name_1c` наблюдаются `2.22%` пропусков, заполнили их значениями из `name`"
   ]
  },
  {
   "cell_type": "markdown",
   "metadata": {},
   "source": [
    "## Marketing_product_dealer_key"
   ]
  },
  {
   "cell_type": "code",
   "execution_count": 400,
   "metadata": {},
   "outputs": [
    {
     "name": "stdout",
     "output_type": "stream",
     "text": [
      "<class 'pandas.core.frame.DataFrame'>\n",
      "Int64Index: 1700 entries, 1 to 2023\n",
      "Data columns (total 3 columns):\n",
      " #   Column      Non-Null Count  Dtype \n",
      "---  ------      --------------  ----- \n",
      " 0   key         1700 non-null   object\n",
      " 1   dealer_id   1700 non-null   int64 \n",
      " 2   product_id  1700 non-null   int64 \n",
      "dtypes: int64(2), object(1)\n",
      "memory usage: 53.1+ KB\n"
     ]
    }
   ],
   "source": [
    "prosept.marketing_product_dealer_key.info()"
   ]
  },
  {
   "cell_type": "code",
   "execution_count": 401,
   "metadata": {},
   "outputs": [
    {
     "data": {
      "text/html": [
       "<div>\n",
       "<style scoped>\n",
       "    .dataframe tbody tr th:only-of-type {\n",
       "        vertical-align: middle;\n",
       "    }\n",
       "\n",
       "    .dataframe tbody tr th {\n",
       "        vertical-align: top;\n",
       "    }\n",
       "\n",
       "    .dataframe thead th {\n",
       "        text-align: right;\n",
       "    }\n",
       "</style>\n",
       "<table border=\"1\" class=\"dataframe\">\n",
       "  <thead>\n",
       "    <tr style=\"text-align: right;\">\n",
       "      <th></th>\n",
       "      <th>key</th>\n",
       "      <th>dealer_id</th>\n",
       "      <th>product_id</th>\n",
       "    </tr>\n",
       "    <tr>\n",
       "      <th>id</th>\n",
       "      <th></th>\n",
       "      <th></th>\n",
       "      <th></th>\n",
       "    </tr>\n",
       "  </thead>\n",
       "  <tbody>\n",
       "    <tr>\n",
       "      <th>1875</th>\n",
       "      <td>528623838</td>\n",
       "      <td>18</td>\n",
       "      <td>258</td>\n",
       "    </tr>\n",
       "    <tr>\n",
       "      <th>1094</th>\n",
       "      <td>3707761</td>\n",
       "      <td>13</td>\n",
       "      <td>406</td>\n",
       "    </tr>\n",
       "    <tr>\n",
       "      <th>714</th>\n",
       "      <td>98267814</td>\n",
       "      <td>8</td>\n",
       "      <td>245</td>\n",
       "    </tr>\n",
       "    <tr>\n",
       "      <th>185</th>\n",
       "      <td>100163759</td>\n",
       "      <td>3</td>\n",
       "      <td>285</td>\n",
       "    </tr>\n",
       "    <tr>\n",
       "      <th>1555</th>\n",
       "      <td>15881620</td>\n",
       "      <td>15</td>\n",
       "      <td>43</td>\n",
       "    </tr>\n",
       "  </tbody>\n",
       "</table>\n",
       "</div>"
      ],
      "text/plain": [
       "            key  dealer_id  product_id\n",
       "id                                    \n",
       "1875  528623838         18         258\n",
       "1094    3707761         13         406\n",
       "714    98267814          8         245\n",
       "185   100163759          3         285\n",
       "1555   15881620         15          43"
      ]
     },
     "execution_count": 401,
     "metadata": {},
     "output_type": "execute_result"
    }
   ],
   "source": [
    "prosept.marketing_product_dealer_key.sample(5, random_state=RANDOM_SEED)"
   ]
  },
  {
   "cell_type": "code",
   "execution_count": 402,
   "metadata": {},
   "outputs": [
    {
     "data": {
      "text/plain": [
       "0"
      ]
     },
     "execution_count": 402,
     "metadata": {},
     "output_type": "execute_result"
    }
   ],
   "source": [
    "prosept.marketing_product_dealer_key[prosept.marketing_product_dealer_key['product_id'].isna()].shape[0]"
   ]
  },
  {
   "cell_type": "markdown",
   "metadata": {},
   "source": [
    "Можно удалить пустые значения:"
   ]
  },
  {
   "cell_type": "code",
   "execution_count": 403,
   "metadata": {},
   "outputs": [],
   "source": [
    "prosept.marketing_product_dealer_key.dropna(subset=['product_id'], inplace=True)"
   ]
  },
  {
   "cell_type": "markdown",
   "metadata": {},
   "source": [
    "Заменим `float` на `int` в `product_id`"
   ]
  },
  {
   "cell_type": "code",
   "execution_count": 404,
   "metadata": {},
   "outputs": [],
   "source": [
    "prosept.marketing_product_dealer_key['product_id'] = prosept.marketing_product_dealer_key['product_id'].astype(int)"
   ]
  },
  {
   "cell_type": "markdown",
   "metadata": {},
   "source": [
    "Проверим, есть ли в датасете референс к нашим удаленным товарам:"
   ]
  },
  {
   "cell_type": "code",
   "execution_count": 405,
   "metadata": {},
   "outputs": [
    {
     "data": {
      "text/html": [
       "<div>\n",
       "<style scoped>\n",
       "    .dataframe tbody tr th:only-of-type {\n",
       "        vertical-align: middle;\n",
       "    }\n",
       "\n",
       "    .dataframe tbody tr th {\n",
       "        vertical-align: top;\n",
       "    }\n",
       "\n",
       "    .dataframe thead th {\n",
       "        text-align: right;\n",
       "    }\n",
       "</style>\n",
       "<table border=\"1\" class=\"dataframe\">\n",
       "  <thead>\n",
       "    <tr style=\"text-align: right;\">\n",
       "      <th></th>\n",
       "      <th>key</th>\n",
       "      <th>dealer_id</th>\n",
       "      <th>product_id</th>\n",
       "    </tr>\n",
       "    <tr>\n",
       "      <th>id</th>\n",
       "      <th></th>\n",
       "      <th></th>\n",
       "      <th></th>\n",
       "    </tr>\n",
       "  </thead>\n",
       "  <tbody>\n",
       "    <tr>\n",
       "      <th>1</th>\n",
       "      <td>546227</td>\n",
       "      <td>2</td>\n",
       "      <td>12</td>\n",
       "    </tr>\n",
       "    <tr>\n",
       "      <th>2</th>\n",
       "      <td>651265</td>\n",
       "      <td>2</td>\n",
       "      <td>106</td>\n",
       "    </tr>\n",
       "    <tr>\n",
       "      <th>3</th>\n",
       "      <td>546257</td>\n",
       "      <td>2</td>\n",
       "      <td>200</td>\n",
       "    </tr>\n",
       "    <tr>\n",
       "      <th>4</th>\n",
       "      <td>546408</td>\n",
       "      <td>2</td>\n",
       "      <td>38</td>\n",
       "    </tr>\n",
       "    <tr>\n",
       "      <th>5</th>\n",
       "      <td>651258</td>\n",
       "      <td>2</td>\n",
       "      <td>403</td>\n",
       "    </tr>\n",
       "  </tbody>\n",
       "</table>\n",
       "</div>"
      ],
      "text/plain": [
       "       key  dealer_id  product_id\n",
       "id                               \n",
       "1   546227          2          12\n",
       "2   651265          2         106\n",
       "3   546257          2         200\n",
       "4   546408          2          38\n",
       "5   651258          2         403"
      ]
     },
     "execution_count": 405,
     "metadata": {},
     "output_type": "execute_result"
    }
   ],
   "source": [
    "prosept.marketing_product_dealer_key.head()"
   ]
  },
  {
   "cell_type": "code",
   "execution_count": 406,
   "metadata": {},
   "outputs": [
    {
     "data": {
      "text/html": [
       "<div>\n",
       "<style scoped>\n",
       "    .dataframe tbody tr th:only-of-type {\n",
       "        vertical-align: middle;\n",
       "    }\n",
       "\n",
       "    .dataframe tbody tr th {\n",
       "        vertical-align: top;\n",
       "    }\n",
       "\n",
       "    .dataframe thead th {\n",
       "        text-align: right;\n",
       "    }\n",
       "</style>\n",
       "<table border=\"1\" class=\"dataframe\">\n",
       "  <thead>\n",
       "    <tr style=\"text-align: right;\">\n",
       "      <th></th>\n",
       "      <th>key</th>\n",
       "      <th>dealer_id</th>\n",
       "      <th>product_id</th>\n",
       "    </tr>\n",
       "    <tr>\n",
       "      <th>id</th>\n",
       "      <th></th>\n",
       "      <th></th>\n",
       "      <th></th>\n",
       "    </tr>\n",
       "  </thead>\n",
       "  <tbody>\n",
       "    <tr>\n",
       "      <th>1274</th>\n",
       "      <td>26391137</td>\n",
       "      <td>16</td>\n",
       "      <td>222</td>\n",
       "    </tr>\n",
       "    <tr>\n",
       "      <th>1275</th>\n",
       "      <td>26391083</td>\n",
       "      <td>16</td>\n",
       "      <td>227</td>\n",
       "    </tr>\n",
       "    <tr>\n",
       "      <th>1409</th>\n",
       "      <td>18381715</td>\n",
       "      <td>15</td>\n",
       "      <td>363</td>\n",
       "    </tr>\n",
       "    <tr>\n",
       "      <th>1659</th>\n",
       "      <td>25458273</td>\n",
       "      <td>15</td>\n",
       "      <td>223</td>\n",
       "    </tr>\n",
       "    <tr>\n",
       "      <th>1660</th>\n",
       "      <td>25458159</td>\n",
       "      <td>15</td>\n",
       "      <td>225</td>\n",
       "    </tr>\n",
       "    <tr>\n",
       "      <th>1661</th>\n",
       "      <td>25458153</td>\n",
       "      <td>15</td>\n",
       "      <td>224</td>\n",
       "    </tr>\n",
       "    <tr>\n",
       "      <th>1839</th>\n",
       "      <td>858663048</td>\n",
       "      <td>17</td>\n",
       "      <td>226</td>\n",
       "    </tr>\n",
       "    <tr>\n",
       "      <th>1840</th>\n",
       "      <td>860500818</td>\n",
       "      <td>17</td>\n",
       "      <td>224</td>\n",
       "    </tr>\n",
       "    <tr>\n",
       "      <th>1841</th>\n",
       "      <td>860592578</td>\n",
       "      <td>17</td>\n",
       "      <td>225</td>\n",
       "    </tr>\n",
       "    <tr>\n",
       "      <th>1843</th>\n",
       "      <td>860510674</td>\n",
       "      <td>17</td>\n",
       "      <td>223</td>\n",
       "    </tr>\n",
       "    <tr>\n",
       "      <th>1981</th>\n",
       "      <td>901204650</td>\n",
       "      <td>18</td>\n",
       "      <td>226</td>\n",
       "    </tr>\n",
       "    <tr>\n",
       "      <th>1983</th>\n",
       "      <td>901206296</td>\n",
       "      <td>18</td>\n",
       "      <td>224</td>\n",
       "    </tr>\n",
       "    <tr>\n",
       "      <th>1985</th>\n",
       "      <td>901194775</td>\n",
       "      <td>18</td>\n",
       "      <td>225</td>\n",
       "    </tr>\n",
       "    <tr>\n",
       "      <th>1987</th>\n",
       "      <td>901204355</td>\n",
       "      <td>18</td>\n",
       "      <td>223</td>\n",
       "    </tr>\n",
       "  </tbody>\n",
       "</table>\n",
       "</div>"
      ],
      "text/plain": [
       "            key  dealer_id  product_id\n",
       "id                                    \n",
       "1274   26391137         16         222\n",
       "1275   26391083         16         227\n",
       "1409   18381715         15         363\n",
       "1659   25458273         15         223\n",
       "1660   25458159         15         225\n",
       "1661   25458153         15         224\n",
       "1839  858663048         17         226\n",
       "1840  860500818         17         224\n",
       "1841  860592578         17         225\n",
       "1843  860510674         17         223\n",
       "1981  901204650         18         226\n",
       "1983  901206296         18         224\n",
       "1985  901194775         18         225\n",
       "1987  901204355         18         223"
      ]
     },
     "execution_count": 406,
     "metadata": {},
     "output_type": "execute_result"
    }
   ],
   "source": [
    "ind_false = prosept.marketing_product_dealer_key[prosept.marketing_product_dealer_key['product_id'].isin(keep_dict.keys())].index\n",
    "prosept.marketing_product_dealer_key[prosept.marketing_product_dealer_key['product_id'].isin(keep_dict.keys())]"
   ]
  },
  {
   "cell_type": "markdown",
   "metadata": {},
   "source": [
    "Такие значения имеются. Заменим их на актуальные:"
   ]
  },
  {
   "cell_type": "code",
   "execution_count": 407,
   "metadata": {},
   "outputs": [],
   "source": [
    "prosept.marketing_product_dealer_key.replace(keep_dict, inplace=True)"
   ]
  },
  {
   "cell_type": "markdown",
   "metadata": {},
   "source": [
    "Посмотрим на результат замены:"
   ]
  },
  {
   "cell_type": "code",
   "execution_count": 408,
   "metadata": {},
   "outputs": [
    {
     "data": {
      "text/html": [
       "<div>\n",
       "<style scoped>\n",
       "    .dataframe tbody tr th:only-of-type {\n",
       "        vertical-align: middle;\n",
       "    }\n",
       "\n",
       "    .dataframe tbody tr th {\n",
       "        vertical-align: top;\n",
       "    }\n",
       "\n",
       "    .dataframe thead th {\n",
       "        text-align: right;\n",
       "    }\n",
       "</style>\n",
       "<table border=\"1\" class=\"dataframe\">\n",
       "  <thead>\n",
       "    <tr style=\"text-align: right;\">\n",
       "      <th></th>\n",
       "      <th>key</th>\n",
       "      <th>dealer_id</th>\n",
       "      <th>product_id</th>\n",
       "    </tr>\n",
       "    <tr>\n",
       "      <th>id</th>\n",
       "      <th></th>\n",
       "      <th></th>\n",
       "      <th></th>\n",
       "    </tr>\n",
       "  </thead>\n",
       "  <tbody>\n",
       "    <tr>\n",
       "      <th>1274</th>\n",
       "      <td>26391137</td>\n",
       "      <td>16</td>\n",
       "      <td>362</td>\n",
       "    </tr>\n",
       "    <tr>\n",
       "      <th>1275</th>\n",
       "      <td>26391083</td>\n",
       "      <td>16</td>\n",
       "      <td>463</td>\n",
       "    </tr>\n",
       "    <tr>\n",
       "      <th>1409</th>\n",
       "      <td>18381715</td>\n",
       "      <td>15</td>\n",
       "      <td>502</td>\n",
       "    </tr>\n",
       "    <tr>\n",
       "      <th>1659</th>\n",
       "      <td>25458273</td>\n",
       "      <td>15</td>\n",
       "      <td>366</td>\n",
       "    </tr>\n",
       "    <tr>\n",
       "      <th>1660</th>\n",
       "      <td>25458159</td>\n",
       "      <td>15</td>\n",
       "      <td>374</td>\n",
       "    </tr>\n",
       "  </tbody>\n",
       "</table>\n",
       "</div>"
      ],
      "text/plain": [
       "           key  dealer_id  product_id\n",
       "id                                   \n",
       "1274  26391137         16         362\n",
       "1275  26391083         16         463\n",
       "1409  18381715         15         502\n",
       "1659  25458273         15         366\n",
       "1660  25458159         15         374"
      ]
     },
     "execution_count": 408,
     "metadata": {},
     "output_type": "execute_result"
    }
   ],
   "source": [
    "prosept.marketing_product_dealer_key[prosept.marketing_product_dealer_key.index.isin(ind_false)].head(5)"
   ]
  },
  {
   "cell_type": "markdown",
   "metadata": {},
   "source": [
    "Замена выполнена конкретно"
   ]
  },
  {
   "cell_type": "code",
   "execution_count": 409,
   "metadata": {},
   "outputs": [
    {
     "name": "stdout",
     "output_type": "stream",
     "text": [
      "Пропуски в датасете \"marketing_product_dealer_key\" не обнаружены\n"
     ]
    }
   ],
   "source": [
    "prosept.check_misses_marketing_product_dealer_key()"
   ]
  },
  {
   "cell_type": "code",
   "execution_count": 410,
   "metadata": {},
   "outputs": [
    {
     "name": "stdout",
     "output_type": "stream",
     "text": [
      "Дубликаты в \"marketing_product_dealer_key\" не обнаружены\n"
     ]
    }
   ],
   "source": [
    "prosept.check_duplicates_marketing_product_dealer_key()"
   ]
  },
  {
   "cell_type": "markdown",
   "metadata": {},
   "source": [
    "### Вывод\n",
    "\n",
    "Некоторые ключи ввели к неверным `article` из датасета `marketing_product`. Мы сохранили словарь, который позволил произведи замену неверных ключей на верные. "
   ]
  },
  {
   "cell_type": "markdown",
   "metadata": {},
   "source": [
    "# Merge DF"
   ]
  },
  {
   "cell_type": "markdown",
   "metadata": {},
   "source": [
    "Соединим всю информацию воедино:"
   ]
  },
  {
   "cell_type": "code",
   "execution_count": 411,
   "metadata": {},
   "outputs": [],
   "source": [
    "prosept.merger()"
   ]
  },
  {
   "cell_type": "markdown",
   "metadata": {},
   "source": [
    "Посмотрим первичную информацию:"
   ]
  },
  {
   "cell_type": "code",
   "execution_count": 412,
   "metadata": {},
   "outputs": [
    {
     "name": "stdout",
     "output_type": "stream",
     "text": [
      "<class 'pandas.core.frame.DataFrame'>\n",
      "Int64Index: 1613 entries, 0 to 1612\n",
      "Data columns (total 4 columns):\n",
      " #   Column         Non-Null Count  Dtype \n",
      "---  ------         --------------  ----- \n",
      " 0   product_name   1613 non-null   object\n",
      " 1   product_id     1613 non-null   int32 \n",
      " 2   original_name  1613 non-null   object\n",
      " 3   name_1c        1613 non-null   object\n",
      "dtypes: int32(1), object(3)\n",
      "memory usage: 56.7+ KB\n"
     ]
    }
   ],
   "source": [
    "prosept.merged_df.info()"
   ]
  },
  {
   "cell_type": "code",
   "execution_count": 413,
   "metadata": {},
   "outputs": [
    {
     "data": {
      "text/html": [
       "<div>\n",
       "<style scoped>\n",
       "    .dataframe tbody tr th:only-of-type {\n",
       "        vertical-align: middle;\n",
       "    }\n",
       "\n",
       "    .dataframe tbody tr th {\n",
       "        vertical-align: top;\n",
       "    }\n",
       "\n",
       "    .dataframe thead th {\n",
       "        text-align: right;\n",
       "    }\n",
       "</style>\n",
       "<table border=\"1\" class=\"dataframe\">\n",
       "  <thead>\n",
       "    <tr style=\"text-align: right;\">\n",
       "      <th></th>\n",
       "      <th>product_name</th>\n",
       "      <th>product_id</th>\n",
       "      <th>original_name</th>\n",
       "      <th>name_1c</th>\n",
       "    </tr>\n",
       "  </thead>\n",
       "  <tbody>\n",
       "    <tr>\n",
       "      <th>0</th>\n",
       "      <td>Средство для удаления цемента Prosept Cement C...</td>\n",
       "      <td>400</td>\n",
       "      <td>Удалитель цемента CEMENT CLEANER готовый соста...</td>\n",
       "      <td>Удалитель цемента PROSEPT CEMENT CLEANER, 0.5 л.</td>\n",
       "    </tr>\n",
       "    <tr>\n",
       "      <th>1</th>\n",
       "      <td>CEMENT CLEANER удалитель цемента</td>\n",
       "      <td>400</td>\n",
       "      <td>Удалитель цемента CEMENT CLEANER готовый соста...</td>\n",
       "      <td>Удалитель цемента PROSEPT CEMENT CLEANER, 0.5 л.</td>\n",
       "    </tr>\n",
       "    <tr>\n",
       "      <th>2</th>\n",
       "      <td>СредстводляудаленияцементаProseptСementСlean0,5л</td>\n",
       "      <td>400</td>\n",
       "      <td>Удалитель цемента CEMENT CLEANER готовый соста...</td>\n",
       "      <td>Удалитель цемента PROSEPT CEMENT CLEANER, 0.5 л.</td>\n",
       "    </tr>\n",
       "    <tr>\n",
       "      <th>3</th>\n",
       "      <td>Средство для удаления цемента Prosept Сement С...</td>\n",
       "      <td>400</td>\n",
       "      <td>Удалитель цемента CEMENT CLEANER готовый соста...</td>\n",
       "      <td>Удалитель цемента PROSEPT CEMENT CLEANER, 0.5 л.</td>\n",
       "    </tr>\n",
       "    <tr>\n",
       "      <th>4</th>\n",
       "      <td>PROSEPT CEMENT CLEANER - удалитель цемента 0,5...</td>\n",
       "      <td>400</td>\n",
       "      <td>Удалитель цемента CEMENT CLEANER готовый соста...</td>\n",
       "      <td>Удалитель цемента PROSEPT CEMENT CLEANER, 0.5 л.</td>\n",
       "    </tr>\n",
       "  </tbody>\n",
       "</table>\n",
       "</div>"
      ],
      "text/plain": [
       "                                        product_name  product_id  \\\n",
       "0  Средство для удаления цемента Prosept Cement C...         400   \n",
       "1                   CEMENT CLEANER удалитель цемента         400   \n",
       "2   СредстводляудаленияцементаProseptСementСlean0,5л         400   \n",
       "3  Средство для удаления цемента Prosept Сement С...         400   \n",
       "4  PROSEPT CEMENT CLEANER - удалитель цемента 0,5...         400   \n",
       "\n",
       "                                       original_name  \\\n",
       "0  Удалитель цемента CEMENT CLEANER готовый соста...   \n",
       "1  Удалитель цемента CEMENT CLEANER готовый соста...   \n",
       "2  Удалитель цемента CEMENT CLEANER готовый соста...   \n",
       "3  Удалитель цемента CEMENT CLEANER готовый соста...   \n",
       "4  Удалитель цемента CEMENT CLEANER готовый соста...   \n",
       "\n",
       "                                            name_1c  \n",
       "0  Удалитель цемента PROSEPT CEMENT CLEANER, 0.5 л.  \n",
       "1  Удалитель цемента PROSEPT CEMENT CLEANER, 0.5 л.  \n",
       "2  Удалитель цемента PROSEPT CEMENT CLEANER, 0.5 л.  \n",
       "3  Удалитель цемента PROSEPT CEMENT CLEANER, 0.5 л.  \n",
       "4  Удалитель цемента PROSEPT CEMENT CLEANER, 0.5 л.  "
      ]
     },
     "execution_count": 413,
     "metadata": {},
     "output_type": "execute_result"
    }
   ],
   "source": [
    "prosept.merged_df.head(5)"
   ]
  },
  {
   "cell_type": "markdown",
   "metadata": {},
   "source": [
    "Как видно из датафрейма, `original_name` соответствуют различным `product_name` с различных площадок. Нужно будет учитывать этот момент при построении модели."
   ]
  },
  {
   "cell_type": "markdown",
   "metadata": {},
   "source": [
    "### Обработка данных"
   ]
  },
  {
   "cell_type": "markdown",
   "metadata": {},
   "source": [
    "Создадим функцию для отчистки текста:"
   ]
  },
  {
   "cell_type": "code",
   "execution_count": 414,
   "metadata": {},
   "outputs": [],
   "source": [
    "extra_words = (\n",
    "    # Список слов для удаления из описания\n",
    "    r'(?:готовый\\sсостав|для|концентрат|просепт|prosept|средство|невымываемая|гелеобразный|канистра|всх|типов|бесконтактного|поверхностей|любых|спрей|'\n",
    "    r'чистящее|чистящий|универсальный|универсальная|универсальное|пэт|жидкое|моющее|гель|чистки|универсаль|мытья|готовый|раствор|ответственных|конструкций|'\n",
    "    r'концентрированное|professional|готовое|superrubber)'\n",
    ")\n",
    " \n",
    "def clean_description(text):\n",
    " \n",
    "    # Приведение текста к нижнему регистру\n",
    "    text = text.lower()\n",
    " \n",
    "    # Удаление чисел в скобках\n",
    "    text = re.sub(r'\\(\\d+\\)', ' ', text)    \n",
    " \n",
    "    # Вставка пробелов между кириллицей и латиницей\n",
    "    text = re.sub(r'(?<=[а-яА-Я])(?=[a-zA-Z])|(?<=[a-zA-Z])(?=[а-яА-Я])', ' ', text)\n",
    " \n",
    "    # Добавление пробелов между цифрами и буквами\n",
    "    text = re.sub(r'(?<=\\d)(?=[а-яА-Яa-zA-Z])', ' ', text)\n",
    "    text = re.sub(r'(?<=[а-яА-Яa-zA-Z])(?=\\d)', ' ', text)\n",
    " \n",
    "    # Удаление диапазонов чисел, разделенных дефисом или двоеточием\n",
    "    text = re.sub(r'\\b\\d+(?::\\d+)?[-:]\\d+(?::\\d+)?\\b', ' ', text)\n",
    " \n",
    "    # Удаление серийных номеров или артикулов\n",
    "    text = re.sub(r'\\b\\d+-\\d+[а-яА-Яa-zA-Z]*\\b', ' ', text)\n",
    " \n",
    "    # Преобразование объемов из литров в миллилитры и веса из кг в граммы\n",
    "    text = re.sub(r'(\\d+[,.]\\d+)\\s*л', lambda x: f\"{int(float(x.group(1).replace(',', '.')) * 1000)} мл\", text)\n",
    "    text = re.sub(r'(\\d+[,.]\\d+)\\s*кг', lambda x: f\"{int(float(x.group(1).replace(',', '.')) * 1000)} г\", text)\n",
    " \n",
    "    # Замена \"/\" и \".\" меджду слов на пробелы\n",
    "    text = re.sub(r'[/\\.]', ' ', text)\n",
    " \n",
    "    text = text.replace('-', ' ')\n",
    " \n",
    "    # Удаление избыточных слов из списка extra_words\n",
    "    text = re.sub(extra_words, ' ', text)\n",
    " \n",
    "    # Удаление пунктуационных знаков и специальных символов\n",
    "    text = re.sub(r'[,\"“”/\\.()–;]', ' ', text)\n",
    " \n",
    "    # Удаление слова \"и\"\n",
    "    text = re.sub(r'\\bи\\b', ' ', text)\n",
    " \n",
    "    # Удаление дефисов, окруженных пробелами\n",
    "    text = re.sub(r'\\s-\\s', ' ', text)\n",
    " \n",
    "    # Удаление всех двойных пробелов и пробелов в начале/конце строки\n",
    "    text = re.sub(r'\\s+', ' ', text)\n",
    "    text = text.strip()\n",
    " \n",
    "    # Замена фраз\n",
    "    text = re.sub(r'средство чистящее универсальное prosept\\s*(\\d+\\s*мл)', r'universal spray \\1', text)\n",
    "    text = re.sub(r'средство\\s*для\\s*уборки\\s*после\\s*строительства\\s*prosept\\s*duty\\s*extra\\s*(\\d+\\s*л)', r'уборки после строительства duty extra \\1', text)\n",
    "    text = re.sub(r'бань|баниисауны', 'бани сауны', text)\n",
    "    text = re.sub(r'литров|литра|литр', 'л', text)\n",
    "    text = re.sub(r'osb\\s+proplast', 'osbproplast', text)\n",
    "    text = re.sub(r'\\bкор\\b|\\bорех\\b', 'коричневый', text)\n",
    "    text = re.sub(r'гриля\\s+и\\s+духовых\\s+шкафов|удаления\\s+пригоревших\\s+жиров', 'жироудалитель cooky grill gel', text)\n",
    "    text = re.sub(r'грунт\\s+пропиточный', 'грунтовка', text)\n",
    "    text = re.sub(r'удалитель\\s+высолов', 'очиститель фасадов', text)\n",
    "    text = re.sub(r'с\\s+itrus', 'citrus', text)\n",
    "    text = re.sub(r'\\bс\\sароматом\\b', '', text)\n",
    "    text = re.sub(r'(\\d+)\\sгруппа', r'\\1-ая группа', text)\n",
    "    text = re.sub(r'\\bi\\sгруппа\\b', '1-ая группа', text)\n",
    "    text = re.sub(r'\\bii\\sгруппа\\b', '2-ая группа', text)\n",
    "    text = re.sub(r'\\biii\\sгруппа\\b', '3-я группа', text)\n",
    "    text = re.sub(r'\\biv\\sгруппа\\b', '4-ая группа', text)\n",
    "    text = re.sub(r'\\bprof l\\b', 'prof', text)\n",
    "    text = re.sub(r'\\b(profi|prof i)\\b', 'prof 1-ая группа', text)\n",
    " \n",
    "    # Удаление всех двойных пробелов и пробелов в начале/конце строки\n",
    "    text = re.sub(r'\\s+', ' ', text)\n",
    "    text = text.strip()\n",
    " \n",
    "    return text\n"
   ]
  },
  {
   "cell_type": "code",
   "execution_count": 415,
   "metadata": {},
   "outputs": [],
   "source": [
    "prosept.merged_df['product_name_normalized'] = prosept.merged_df['product_name'].apply(clean_description)\n",
    "prosept.merged_df['original_name_normalized'] = prosept.merged_df['original_name'].apply(clean_description)\n",
    "prosept.merged_df['1c_name_normalized'] = prosept.merged_df['name_1c'].apply(clean_description)"
   ]
  },
  {
   "cell_type": "markdown",
   "metadata": {},
   "source": [
    "### Модель"
   ]
  },
  {
   "cell_type": "markdown",
   "metadata": {},
   "source": [
    "Инициализируем модель:"
   ]
  },
  {
   "cell_type": "code",
   "execution_count": 416,
   "metadata": {},
   "outputs": [],
   "source": [
    "model = SentenceTransformer('LaBSE')"
   ]
  },
  {
   "cell_type": "markdown",
   "metadata": {},
   "source": [
    "Рассчитаем эмбединги:"
   ]
  },
  {
   "cell_type": "code",
   "execution_count": 417,
   "metadata": {},
   "outputs": [],
   "source": [
    "prosept.merged_df['original_name_embeddings'] = model.encode(prosept.merged_df['original_name_normalized'].values).tolist()\n",
    "prosept.merged_df['product_name_embeddings'] = model.encode(prosept.merged_df['product_name_normalized'].values).tolist()\n",
    "prosept.merged_df['1c_name_embeddings'] = model.encode(prosept.merged_df['1c_name_normalized'].values).tolist()"
   ]
  },
  {
   "cell_type": "markdown",
   "metadata": {},
   "source": [
    "Определим метрику расчёта. Была выбрана метрика `recall_at_k`, поскольку нам важно получить истинное значение в `n` вариантах"
   ]
  },
  {
   "cell_type": "code",
   "execution_count": 418,
   "metadata": {},
   "outputs": [],
   "source": [
    "# Функция для расчета Recall at K\n",
    "def recall_at_k(predicted, correct, k=5):\n",
    "    return int(correct in predicted[:k])"
   ]
  },
  {
   "cell_type": "code",
   "execution_count": 426,
   "metadata": {},
   "outputs": [
    {
     "name": "stdout",
     "output_type": "stream",
     "text": [
      "Данные 'name'. Средний Recall на Топ-5: 0.99\n"
     ]
    }
   ],
   "source": [
    "unique_original_embeddings = prosept.merged_df.drop_duplicates(subset=['product_id'])[['product_id', 'original_name_embeddings']]\n",
    "unique_embeddings_matrix = np.stack(unique_original_embeddings['original_name_embeddings'].values)\n",
    "\n",
    "# Ранжирование товаров и подсчет Recall at 5\n",
    "total_recall = 0\n",
    "for index, row in prosept.merged_df.iterrows():\n",
    "    # Расчет расстояний\n",
    "    distances = pdist(np.vstack([row['product_name_embeddings'], unique_embeddings_matrix]), 'cosine')\n",
    "    distance_matrix = squareform(distances)[0, 1:]\n",
    "    top_5_indices = np.argsort(distance_matrix)[:5]  # Топ-5 индексов с наименьшими расстояниями\n",
    "\n",
    "    # Получаем ID топ-5 товаров\n",
    "    top_5_products_ids = unique_original_embeddings.iloc[top_5_indices]['product_id'].values\n",
    "\n",
    "    score = recall_at_k(top_5_products_ids, row['product_id'])\n",
    "\n",
    "    # Добавляем recall для текущего товара\n",
    "    total_recall += score\n",
    "\n",
    "average_recall = total_recall / len(prosept.merged_df)\n",
    "print(f\"Данные 'name'. Средний Recall на Топ-5: {round(average_recall, 2)}\")"
   ]
  },
  {
   "cell_type": "code",
   "execution_count": 427,
   "metadata": {},
   "outputs": [
    {
     "name": "stdout",
     "output_type": "stream",
     "text": [
      "Данные 'name_1c'. Средний Recall на Топ-5: 0.98\n"
     ]
    }
   ],
   "source": [
    "unique_original_embeddings_2 = prosept.merged_df.drop_duplicates(subset=['product_id'])[['product_id', '1c_name_embeddings']]\n",
    "unique_embeddings_matrix_2 = np.stack(unique_original_embeddings_2['1c_name_embeddings'].values)\n",
    "\n",
    "# Ранжирование товаров и подсчет Recall at 5\n",
    "total_recall = 0\n",
    "for index, row in prosept.merged_df.iterrows():\n",
    "    # Расчет расстояний\n",
    "    distances = pdist(np.vstack([row['product_name_embeddings'], unique_embeddings_matrix_2]), 'cosine')\n",
    "    distance_matrix = squareform(distances)[0, 1:]\n",
    "    top_5_indices = np.argsort(distance_matrix)[:5]  # Топ-5 индексов с наименьшими расстояниями\n",
    "\n",
    "    # Получаем ID топ-5 товаров\n",
    "    top_5_products_ids = unique_original_embeddings_2.iloc[top_5_indices]['product_id'].values\n",
    "\n",
    "    score = recall_at_k(top_5_products_ids, row['product_id'])\n",
    "\n",
    "    # Добавляем recall для текущего товара\n",
    "    total_recall += score\n",
    "\n",
    "average_recall = total_recall / len(prosept.merged_df)\n",
    "print(f\"Данные 'name_1c'. Средний Recall на Топ-5: {round(average_recall, 2)}\")"
   ]
  },
  {
   "cell_type": "markdown",
   "metadata": {},
   "source": [
    "Таким образом, удалось достигнуть метрики `Recall `:\n",
    "\n",
    "* `0.99` - для `name`\n",
    "* `0.98` - для `name_1c`"
   ]
  },
  {
   "cell_type": "markdown",
   "metadata": {},
   "source": [
    "### Сохраняем модель:"
   ]
  },
  {
   "cell_type": "code",
   "execution_count": 420,
   "metadata": {},
   "outputs": [],
   "source": [
    "#model.save('model')"
   ]
  }
 ],
 "metadata": {
  "kernelspec": {
   "display_name": "Test_env",
   "language": "python",
   "name": "python3"
  },
  "language_info": {
   "codemirror_mode": {
    "name": "ipython",
    "version": 3
   },
   "file_extension": ".py",
   "mimetype": "text/x-python",
   "name": "python",
   "nbconvert_exporter": "python",
   "pygments_lexer": "ipython3",
   "version": "3.9.16"
  }
 },
 "nbformat": 4,
 "nbformat_minor": 2
}
